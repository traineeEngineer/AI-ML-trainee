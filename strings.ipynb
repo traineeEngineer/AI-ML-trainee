{
 "cells": [
  {
   "cell_type": "code",
   "execution_count": null,
   "metadata": {},
   "outputs": [],
   "source": [
    "course=\"Python for begginers\"\n",
    "print(course[-2])"
   ]
  },
  {
   "cell_type": "code",
   "execution_count": null,
   "metadata": {},
   "outputs": [],
   "source": [
    "course=\"Python for begginers\"\n",
    "print(course[0:])\n",
    "print(course[::])\n",
    "print(course[-7:-2])\n"
   ]
  },
  {
   "cell_type": "code",
   "execution_count": null,
   "metadata": {},
   "outputs": [],
   "source": [
    "name=\"Jennifer\"\n",
    "print(name[1:-1])"
   ]
  },
  {
   "cell_type": "code",
   "execution_count": null,
   "metadata": {},
   "outputs": [],
   "source": [
    "# formate string\n",
    "f_name=\"john\"\n",
    "l_name=\"smith\"\n",
    "message=f_name+' ['+l_name+ '] '+'is a coder'\n",
    "msg=f'{f_name} [{l_name}] is a coder'\n",
    "print(message)\n",
    "print(msg)"
   ]
  },
  {
   "cell_type": "code",
   "execution_count": null,
   "metadata": {},
   "outputs": [],
   "source": [
    "# string methods\n",
    "course='Python for beginners'\n",
    "len(course)  # calc num of chars"
   ]
  },
  {
   "cell_type": "code",
   "execution_count": null,
   "metadata": {},
   "outputs": [],
   "source": [
    "course='Python for beginners'\n",
    "course.upper() # upper all chars\n"
   ]
  },
  {
   "cell_type": "code",
   "execution_count": null,
   "metadata": {},
   "outputs": [],
   "source": [
    "course='Python for beginners'\n",
    "course.lower() # lower all chars"
   ]
  },
  {
   "cell_type": "code",
   "execution_count": null,
   "metadata": {},
   "outputs": [],
   "source": [
    "course='Python for beginners'\n",
    "course.find('o') # find the chars exists"
   ]
  },
  {
   "cell_type": "code",
   "execution_count": null,
   "metadata": {},
   "outputs": [],
   "source": [
    "course='Python for beginners'\n",
    "course.replace('beginners','absolute begineers') # replace exists chasrs into new chars "
   ]
  },
  {
   "cell_type": "code",
   "execution_count": null,
   "metadata": {},
   "outputs": [],
   "source": [
    "course='Python for beginners'\n",
    "course.title() # upper all chars first sequences"
   ]
  },
  {
   "cell_type": "code",
   "execution_count": null,
   "metadata": {},
   "outputs": [],
   "source": [
    "course='Python for beginners'\n",
    "txt=\"Course For Absolute\"\n",
    "concat=course+\" \"+txt\n",
    "concat.lower()"
   ]
  },
  {
   "cell_type": "code",
   "execution_count": null,
   "metadata": {},
   "outputs": [],
   "source": [
    "course='Python for beginners'\n",
    "course.center(20,'@') # center the string and fill space with specified chars"
   ]
  },
  {
   "cell_type": "code",
   "execution_count": null,
   "metadata": {},
   "outputs": [],
   "source": [
    "course='Python for beginners for'\n",
    "course.count('for') # count number of time string occur"
   ]
  },
  {
   "cell_type": "code",
   "execution_count": null,
   "metadata": {},
   "outputs": [],
   "source": [
    "x=(2+3)*10-3\n",
    "x            #execution of expression pranthesis,exponentials,mul or div,after add or sub\n"
   ]
  },
  {
   "cell_type": "code",
   "execution_count": null,
   "metadata": {},
   "outputs": [],
   "source": [
    "# math func\n",
    "x=2.9\n",
    "round(x)\n",
    "abs(-2.9)"
   ]
  },
  {
   "cell_type": "code",
   "execution_count": null,
   "metadata": {},
   "outputs": [],
   "source": [
    "import math\n",
    "math.ceil(2.9)\n",
    "math.floor(2.9)"
   ]
  },
  {
   "cell_type": "code",
   "execution_count": null,
   "metadata": {},
   "outputs": [],
   "source": [
    "# Weight coverter\n",
    "weight=int(input(\"Enter your wieght:\"))\n",
    "units=input(\"(L)bs or(K)g:\")\n",
    "\n",
    "if units.upper()=='L':\n",
    "    converted=weight * 0.45\n",
    "    print(f'you are {converted} kilos')\n",
    "else:\n",
    "    converted=weight/ 0.45    \n",
    "    print(f'you are {converted} pounds')\n"
   ]
  },
  {
   "cell_type": "code",
   "execution_count": null,
   "metadata": {},
   "outputs": [],
   "source": [
    "   "
   ]
  },
  {
   "cell_type": "code",
   "execution_count": 1,
   "metadata": {},
   "outputs": [],
   "source": [
    "command=\"\"\n",
    "while True:\n",
    "    commnad=input(\">\").lower()\n",
    "    if command ==\"start\":\n",
    "        print(\"car start\")\n",
    "    elif command ==\"stop\":\n",
    "        print(\"car stops\")\n",
    "    elif command==\"help\":\n",
    "        print(\"\"\"\n",
    "              start-car is start\n",
    "              stop -car is stoped\n",
    "              quit -quit from car\n",
    "              \"\"\")\n",
    "    elif command==\"quit\":\n",
    "        break    \n",
    "    else:\n",
    "        print(\"i dont understand go to help\")   "
   ]
  },
  {
   "cell_type": "code",
   "execution_count": null,
   "metadata": {},
   "outputs": [],
   "source": []
  }
 ],
 "metadata": {
  "kernelspec": {
   "display_name": "base",
   "language": "python",
   "name": "python3"
  },
  "language_info": {
   "codemirror_mode": {
    "name": "ipython",
    "version": 3
   },
   "file_extension": ".py",
   "mimetype": "text/x-python",
   "name": "python",
   "nbconvert_exporter": "python",
   "pygments_lexer": "ipython3",
   "version": "3.12.4"
  }
 },
 "nbformat": 4,
 "nbformat_minor": 2
}
