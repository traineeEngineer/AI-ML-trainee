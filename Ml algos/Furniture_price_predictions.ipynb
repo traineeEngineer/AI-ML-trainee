{
 "cells": [
  {
   "cell_type": "code",
   "execution_count": 39,
   "metadata": {},
   "outputs": [],
   "source": [
    "import pandas as pd\n",
    "import seaborn as sns\n",
    "import numpy as np\n",
    "import matplotlib.pyplot as plt\n",
    "from sklearn.preprocessing import LabelEncoder\n",
    "from sklearn.model_selection import train_test_split\n",
    "from sklearn.linear_model import LinearRegression\n",
    "from sklearn.ensemble import RandomForestRegressor\n",
    "from sklearn.ensemble import AdaBoostRegressor\n",
    "from sklearn.svm import SVR\n",
    "from sklearn.neighbors import KNeighborsRegressor\n",
    "from sklearn.metrics import mean_absolute_error,mean_squared_error"
   ]
  },
  {
   "cell_type": "code",
   "execution_count": 40,
   "metadata": {},
   "outputs": [],
   "source": [
    "df=pd.read_csv('../MachineLearning/datasets/Furniture Price Prediction.csv')"
   ]
  },
  {
   "cell_type": "code",
   "execution_count": 41,
   "metadata": {},
   "outputs": [
    {
     "data": {
      "text/html": [
       "<div>\n",
       "<style scoped>\n",
       "    .dataframe tbody tr th:only-of-type {\n",
       "        vertical-align: middle;\n",
       "    }\n",
       "\n",
       "    .dataframe tbody tr th {\n",
       "        vertical-align: top;\n",
       "    }\n",
       "\n",
       "    .dataframe thead th {\n",
       "        text-align: right;\n",
       "    }\n",
       "</style>\n",
       "<table border=\"1\" class=\"dataframe\">\n",
       "  <thead>\n",
       "    <tr style=\"text-align: right;\">\n",
       "      <th></th>\n",
       "      <th>furniture</th>\n",
       "      <th>type</th>\n",
       "      <th>url</th>\n",
       "      <th>rate</th>\n",
       "      <th>delivery</th>\n",
       "      <th>sale</th>\n",
       "      <th>price</th>\n",
       "    </tr>\n",
       "  </thead>\n",
       "  <tbody>\n",
       "    <tr>\n",
       "      <th>0</th>\n",
       "      <td>Bed side table with storage shelf</td>\n",
       "      <td>Home Decor Center</td>\n",
       "      <td>https://www.jumia.com.eg//ar/home-decor-center...</td>\n",
       "      <td>3.3</td>\n",
       "      <td>172.14</td>\n",
       "      <td>72%</td>\n",
       "      <td>2500.0</td>\n",
       "    </tr>\n",
       "    <tr>\n",
       "      <th>1</th>\n",
       "      <td>Bed side table with storage shelf</td>\n",
       "      <td>Modern Home</td>\n",
       "      <td>https://www.jumia.com.eg//ar/modern-home-bedsi...</td>\n",
       "      <td>0.0</td>\n",
       "      <td>172.14</td>\n",
       "      <td>54%</td>\n",
       "      <td>1200.0</td>\n",
       "    </tr>\n",
       "    <tr>\n",
       "      <th>2</th>\n",
       "      <td>Modern Zigzag TV Table</td>\n",
       "      <td>Modern Home</td>\n",
       "      <td>https://www.jumia.com.eg//ar/generic-zigzag-tv...</td>\n",
       "      <td>0.0</td>\n",
       "      <td>172.14</td>\n",
       "      <td>18%</td>\n",
       "      <td>1099.0</td>\n",
       "    </tr>\n",
       "    <tr>\n",
       "      <th>3</th>\n",
       "      <td>Bedside table with storage shelf</td>\n",
       "      <td>Modern Home</td>\n",
       "      <td>https://www.jumia.com.eg//ar/modern-home-bedsi...</td>\n",
       "      <td>0.0</td>\n",
       "      <td>172.14</td>\n",
       "      <td>58%</td>\n",
       "      <td>1200.0</td>\n",
       "    </tr>\n",
       "    <tr>\n",
       "      <th>4</th>\n",
       "      <td>Wall Mounted TV Unit with Cabinet TV Stand Uni...</td>\n",
       "      <td>Modern Home</td>\n",
       "      <td>https://www.jumia.com.eg//ar/modern-home-wall-...</td>\n",
       "      <td>5.0</td>\n",
       "      <td>52.44</td>\n",
       "      <td>54%</td>\n",
       "      <td>1400.0</td>\n",
       "    </tr>\n",
       "  </tbody>\n",
       "</table>\n",
       "</div>"
      ],
      "text/plain": [
       "                                           furniture               type  \\\n",
       "0                 Bed side table with storage shelf   Home Decor Center   \n",
       "1                 Bed side table with storage shelf         Modern Home   \n",
       "2                            Modern Zigzag TV Table         Modern Home   \n",
       "3                  Bedside table with storage shelf         Modern Home   \n",
       "4  Wall Mounted TV Unit with Cabinet TV Stand Uni...        Modern Home   \n",
       "\n",
       "                                                 url  rate  delivery sale  \\\n",
       "0  https://www.jumia.com.eg//ar/home-decor-center...   3.3    172.14  72%   \n",
       "1  https://www.jumia.com.eg//ar/modern-home-bedsi...   0.0    172.14  54%   \n",
       "2  https://www.jumia.com.eg//ar/generic-zigzag-tv...   0.0    172.14  18%   \n",
       "3  https://www.jumia.com.eg//ar/modern-home-bedsi...   0.0    172.14  58%   \n",
       "4  https://www.jumia.com.eg//ar/modern-home-wall-...   5.0     52.44  54%   \n",
       "\n",
       "    price  \n",
       "0  2500.0  \n",
       "1  1200.0  \n",
       "2  1099.0  \n",
       "3  1200.0  \n",
       "4  1400.0  "
      ]
     },
     "execution_count": 41,
     "metadata": {},
     "output_type": "execute_result"
    }
   ],
   "source": [
    "df.head()"
   ]
  },
  {
   "cell_type": "code",
   "execution_count": 42,
   "metadata": {},
   "outputs": [
    {
     "data": {
      "text/plain": [
       "(2000, 7)"
      ]
     },
     "execution_count": 42,
     "metadata": {},
     "output_type": "execute_result"
    }
   ],
   "source": [
    "df.shape"
   ]
  },
  {
   "cell_type": "code",
   "execution_count": 43,
   "metadata": {},
   "outputs": [
    {
     "data": {
      "text/html": [
       "<div>\n",
       "<style scoped>\n",
       "    .dataframe tbody tr th:only-of-type {\n",
       "        vertical-align: middle;\n",
       "    }\n",
       "\n",
       "    .dataframe tbody tr th {\n",
       "        vertical-align: top;\n",
       "    }\n",
       "\n",
       "    .dataframe thead th {\n",
       "        text-align: right;\n",
       "    }\n",
       "</style>\n",
       "<table border=\"1\" class=\"dataframe\">\n",
       "  <thead>\n",
       "    <tr style=\"text-align: right;\">\n",
       "      <th></th>\n",
       "      <th>furniture</th>\n",
       "      <th>type</th>\n",
       "      <th>url</th>\n",
       "      <th>sale</th>\n",
       "    </tr>\n",
       "  </thead>\n",
       "  <tbody>\n",
       "    <tr>\n",
       "      <th>count</th>\n",
       "      <td>2000</td>\n",
       "      <td>2000</td>\n",
       "      <td>2000</td>\n",
       "      <td>2000</td>\n",
       "    </tr>\n",
       "    <tr>\n",
       "      <th>unique</th>\n",
       "      <td>1224</td>\n",
       "      <td>592</td>\n",
       "      <td>1925</td>\n",
       "      <td>81</td>\n",
       "    </tr>\n",
       "    <tr>\n",
       "      <th>top</th>\n",
       "      <td>Modern capton bed, cm wood</td>\n",
       "      <td>Modern Home</td>\n",
       "      <td>https://www.jumia.com.eg//ar/home-decor-center...</td>\n",
       "      <td>0%</td>\n",
       "    </tr>\n",
       "    <tr>\n",
       "      <th>freq</th>\n",
       "      <td>29</td>\n",
       "      <td>678</td>\n",
       "      <td>3</td>\n",
       "      <td>536</td>\n",
       "    </tr>\n",
       "  </tbody>\n",
       "</table>\n",
       "</div>"
      ],
      "text/plain": [
       "                         furniture         type  \\\n",
       "count                         2000         2000   \n",
       "unique                        1224          592   \n",
       "top     Modern capton bed, cm wood  Modern Home   \n",
       "freq                            29          678   \n",
       "\n",
       "                                                      url  sale  \n",
       "count                                                2000  2000  \n",
       "unique                                               1925    81  \n",
       "top     https://www.jumia.com.eg//ar/home-decor-center...    0%  \n",
       "freq                                                    3   536  "
      ]
     },
     "execution_count": 43,
     "metadata": {},
     "output_type": "execute_result"
    }
   ],
   "source": [
    "df.describe(include='object')"
   ]
  },
  {
   "cell_type": "code",
   "execution_count": 44,
   "metadata": {},
   "outputs": [
    {
     "data": {
      "text/plain": [
       "furniture     0\n",
       "type          0\n",
       "url           0\n",
       "rate          0\n",
       "delivery      0\n",
       "sale          0\n",
       "price        39\n",
       "dtype: int64"
      ]
     },
     "execution_count": 44,
     "metadata": {},
     "output_type": "execute_result"
    }
   ],
   "source": [
    "df.isna().sum()"
   ]
  },
  {
   "cell_type": "code",
   "execution_count": 47,
   "metadata": {},
   "outputs": [],
   "source": [
    "df.dropna(subset=['price'],inplace=True)"
   ]
  },
  {
   "cell_type": "code",
   "execution_count": 48,
   "metadata": {},
   "outputs": [
    {
     "data": {
      "text/plain": [
       "furniture    0\n",
       "type         0\n",
       "url          0\n",
       "rate         0\n",
       "delivery     0\n",
       "sale         0\n",
       "price        0\n",
       "dtype: int64"
      ]
     },
     "execution_count": 48,
     "metadata": {},
     "output_type": "execute_result"
    }
   ],
   "source": [
    "df.isna().sum()"
   ]
  },
  {
   "cell_type": "code",
   "execution_count": 49,
   "metadata": {},
   "outputs": [
    {
     "data": {
      "text/plain": [
       "<Axes: ylabel='Frequency'>"
      ]
     },
     "execution_count": 49,
     "metadata": {},
     "output_type": "execute_result"
    },
    {
     "data": {
      "image/png": "[encoded data removed]",
      "text/plain": [
       "<Figure size 640x480 with 1 Axes>"
      ]
     },
     "metadata": {},
     "output_type": "display_data"
    }
   ],
   "source": [
    "df['price'].plot.hist(bins=20)"
   ]
  },
  {
   "cell_type": "code",
   "execution_count": 50,
   "metadata": {},
   "outputs": [],
   "source": [
    "df.drop(['furniture','type','url'],axis=1,inplace=True)"
   ]
  },
  {
   "cell_type": "code",
   "execution_count": 51,
   "metadata": {},
   "outputs": [
    {
     "data": {
      "text/html": [
       "<div>\n",
       "<style scoped>\n",
       "    .dataframe tbody tr th:only-of-type {\n",
       "        vertical-align: middle;\n",
       "    }\n",
       "\n",
       "    .dataframe tbody tr th {\n",
       "        vertical-align: top;\n",
       "    }\n",
       "\n",
       "    .dataframe thead th {\n",
       "        text-align: right;\n",
       "    }\n",
       "</style>\n",
       "<table border=\"1\" class=\"dataframe\">\n",
       "  <thead>\n",
       "    <tr style=\"text-align: right;\">\n",
       "      <th></th>\n",
       "      <th>rate</th>\n",
       "      <th>delivery</th>\n",
       "      <th>sale</th>\n",
       "      <th>price</th>\n",
       "    </tr>\n",
       "  </thead>\n",
       "  <tbody>\n",
       "    <tr>\n",
       "      <th>0</th>\n",
       "      <td>3.3</td>\n",
       "      <td>172.14</td>\n",
       "      <td>72%</td>\n",
       "      <td>2500.0</td>\n",
       "    </tr>\n",
       "    <tr>\n",
       "      <th>1</th>\n",
       "      <td>0.0</td>\n",
       "      <td>172.14</td>\n",
       "      <td>54%</td>\n",
       "      <td>1200.0</td>\n",
       "    </tr>\n",
       "    <tr>\n",
       "      <th>2</th>\n",
       "      <td>0.0</td>\n",
       "      <td>172.14</td>\n",
       "      <td>18%</td>\n",
       "      <td>1099.0</td>\n",
       "    </tr>\n",
       "    <tr>\n",
       "      <th>3</th>\n",
       "      <td>0.0</td>\n",
       "      <td>172.14</td>\n",
       "      <td>58%</td>\n",
       "      <td>1200.0</td>\n",
       "    </tr>\n",
       "    <tr>\n",
       "      <th>4</th>\n",
       "      <td>5.0</td>\n",
       "      <td>52.44</td>\n",
       "      <td>54%</td>\n",
       "      <td>1400.0</td>\n",
       "    </tr>\n",
       "    <tr>\n",
       "      <th>...</th>\n",
       "      <td>...</td>\n",
       "      <td>...</td>\n",
       "      <td>...</td>\n",
       "      <td>...</td>\n",
       "    </tr>\n",
       "    <tr>\n",
       "      <th>1995</th>\n",
       "      <td>0.0</td>\n",
       "      <td>656.28</td>\n",
       "      <td>0%</td>\n",
       "      <td>1632.0</td>\n",
       "    </tr>\n",
       "    <tr>\n",
       "      <th>1996</th>\n",
       "      <td>0.0</td>\n",
       "      <td>172.14</td>\n",
       "      <td>0%</td>\n",
       "      <td>11450.0</td>\n",
       "    </tr>\n",
       "    <tr>\n",
       "      <th>1997</th>\n",
       "      <td>0.0</td>\n",
       "      <td>52.44</td>\n",
       "      <td>0%</td>\n",
       "      <td>550.0</td>\n",
       "    </tr>\n",
       "    <tr>\n",
       "      <th>1998</th>\n",
       "      <td>0.0</td>\n",
       "      <td>172.14</td>\n",
       "      <td>9%</td>\n",
       "      <td>8495.0</td>\n",
       "    </tr>\n",
       "    <tr>\n",
       "      <th>1999</th>\n",
       "      <td>0.0</td>\n",
       "      <td>172.14</td>\n",
       "      <td>10%</td>\n",
       "      <td>10775.0</td>\n",
       "    </tr>\n",
       "  </tbody>\n",
       "</table>\n",
       "<p>1961 rows × 4 columns</p>\n",
       "</div>"
      ],
      "text/plain": [
       "      rate  delivery sale    price\n",
       "0      3.3    172.14  72%   2500.0\n",
       "1      0.0    172.14  54%   1200.0\n",
       "2      0.0    172.14  18%   1099.0\n",
       "3      0.0    172.14  58%   1200.0\n",
       "4      5.0     52.44  54%   1400.0\n",
       "...    ...       ...  ...      ...\n",
       "1995   0.0    656.28   0%   1632.0\n",
       "1996   0.0    172.14   0%  11450.0\n",
       "1997   0.0     52.44   0%    550.0\n",
       "1998   0.0    172.14   9%   8495.0\n",
       "1999   0.0    172.14  10%  10775.0\n",
       "\n",
       "[1961 rows x 4 columns]"
      ]
     },
     "execution_count": 51,
     "metadata": {},
     "output_type": "execute_result"
    }
   ],
   "source": [
    "df"
   ]
  },
  {
   "cell_type": "code",
   "execution_count": 59,
   "metadata": {},
   "outputs": [],
   "source": [
    "df['sale']=df['sale'].str.rstrip('%').astype('float')"
   ]
  },
  {
   "cell_type": "code",
   "execution_count": 60,
   "metadata": {},
   "outputs": [],
   "source": [
    "X=df.iloc[:,:-1]\n",
    "Y=df.iloc[:,-1]"
   ]
  },
  {
   "cell_type": "code",
   "execution_count": 61,
   "metadata": {},
   "outputs": [],
   "source": [
    "X_train,X_test,Y_train,Y_test=train_test_split(X,Y,test_size=0.2,random_state=0)"
   ]
  },
  {
   "cell_type": "code",
   "execution_count": 62,
   "metadata": {},
   "outputs": [],
   "source": [
    "def model_evaluate(model,name,plot=True):\n",
    "    y_pred=model.predict(X_test)\n",
    "    tit = name + \"\\nMAE:{}\\nMSE:{}\".format(mean_absolute_error(y_pred, Y_test), mean_squared_error(y_pred, Y_test))\n",
    "    if plot:\n",
    "        dd=pd.DataFrame(X_test,columns=['rate','delivery','sale'])\n",
    "        dd['price']=y_pred\n",
    "        sns.pairplot(dd,x=['rate','delivery','sale'],y_vars=['price'])\n",
    "        plt.suptitle(tit)\n",
    "        plt.tight_layout()\n",
    "    else:\n",
    "        print(tit)"
   ]
  },
  {
   "cell_type": "code",
   "execution_count": 63,
   "metadata": {},
   "outputs": [],
   "source": [
    "def model_train(model, name):\n",
    "    model.fit(X_train, Y_train)\n",
    "    model_evaluate(model, name, False)\n",
    "    return model  "
   ]
  },
  {
   "cell_type": "code",
   "execution_count": 64,
   "metadata": {},
   "outputs": [],
   "source": [
    "lr=LinearRegression()\n",
    "rfr=RandomForestRegressor(n_estimators=150,max_depth=10)\n",
    "svr=SVR(kernel='linear',C=0.6)\n",
    "abr=AdaBoostRegressor(n_estimators=45,learning_rate=0.01)\n",
    "knr=KNeighborsRegressor(n_neighbors=10)\n",
    "models=[lr,rfr,svr,abr,knr]\n",
    "names = ['Linear Regression', 'Random Forest Regressor', 'Support Vector Regression',\n",
    "        'Ada Boost Regressor', 'KNeighbors Regressor']"
   ]
  },
  {
   "cell_type": "code",
   "execution_count": 65,
   "metadata": {},
   "outputs": [
    {
     "name": "stdout",
     "output_type": "stream",
     "text": [
      "Linear Regression\n",
      "MAE:2003.1022513447022\n",
      "MSE:10508747.54278597\n",
      "\n",
      "Random Forest Regressor\n",
      "MAE:1386.5242969566796\n",
      "MSE:7654882.283847115\n",
      "\n",
      "Support Vector Regression\n",
      "MAE:1813.9128245635345\n",
      "MSE:10730306.604097852\n",
      "\n",
      "Ada Boost Regressor\n",
      "MAE:1711.3576913682523\n",
      "MSE:8609567.512263061\n",
      "\n",
      "KNeighbors Regressor\n",
      "MAE:1464.1498040712468\n",
      "MSE:7929622.158791967\n",
      "\n"
     ]
    }
   ],
   "source": [
    "mls=[]\n",
    "for i,j in zip(models,names):\n",
    "    mls.append(model_train(i,j))\n",
    "    print()"
   ]
  },
  {
   "cell_type": "code",
   "execution_count": 67,
   "metadata": {},
   "outputs": [],
   "source": [
    "df = pd.DataFrame(X_test, columns=['rate', 'delivery', 'sale'])\n",
    "df['price'] = Y_test"
   ]
  },
  {
   "cell_type": "code",
   "execution_count": null,
   "metadata": {},
   "outputs": [],
   "source": [
    "    "
   ]
  }
 ],
 "metadata": {
  "kernelspec": {
   "display_name": "base",
   "language": "python",
   "name": "python3"
  },
  "language_info": {
   "codemirror_mode": {
    "name": "ipython",
    "version": 3
   },
   "file_extension": ".py",
   "mimetype": "text/x-python",
   "name": "python",
   "nbconvert_exporter": "python",
   "pygments_lexer": "ipython3",
   "version": "3.9.13"
  },
  "orig_nbformat": 4,
  "vscode": {
   "interpreter": {
    "hash": "b09ec625f77bf4fd762565a912b97636504ad6ec901eb2d0f4cf5a7de23e1ee5"
   }
  }
 },
 "nbformat": 4,
 "nbformat_minor": 2
}
