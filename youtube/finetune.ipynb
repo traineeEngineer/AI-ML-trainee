{
 "cells": [
  {
   "cell_type": "code",
   "execution_count": 1,
   "metadata": {},
   "outputs": [],
   "source": [
    "import pandas as pd\n",
    "df=pd.DataFrame({\n",
    "    'comments':[\n",
    "        'wooooooo its very yummmmmm I love it',\n",
    "        'thanx.. respect from',\n",
    "        'you re amazing',\n",
    "        'thank u so much ...love u  my friend.Im from Dubai',\n",
    "        'u r awesome kabita ji',\n",
    "        'aap mujhe bahut pasand ho mam',\n",
    "        'mast',\n",
    "        'very good',\n",
    "        'i tried it today it came out delicious.. I have added kade masala and other  ingredients 1.5 times more for 2kg chicken and 1 kg 100 gm  basmathi rice and i followed each and every step  it came out really well.. My family loved the recipe.. Thank u for sharing this recipe',\n",
    "        'very nice kabita sis ,I m in Madurai Tamil nadu',\n",
    "        'nice presentation',\n",
    "        'wow nice',\n",
    "        'u r the best chef on youtube mam',\n",
    "        'super recipe mam ....I tried it... It was awesome.... Thanks a lot... super you are Keep going',\n",
    "        'so nice Awesome',\n",
    "        'Kabita mam, you are the only reason i learned cooking. Not only that i made cooking as my hobby, being a bachelor my roommates always wait for me to come from office and make something for them. All the credit goes to you mam, you are really awesome',\n",
    "        'i love you darling',\n",
    "        'wonderful',\n",
    "        'sister aapka video dekhne ke baad mene life me first time biryani banai, aur jab biryani ban gayi toh gharwale ungliya chatate reh gaye, thank you sister',\n",
    "        'hello Kabita Ma am ... Aaj Maine Aapne bataya huye tarike se biryani Banayi... Bahut he acchi Bani thi... Thanks for sharing this recepe with us',\n",
    "        'you are best',\n",
    "        'So easy n delicious i learned frm u only',\n",
    "        'tqqq Didi muja reply daynay ka khaliea.',\n",
    "        'Kabitha mam appki lookg so cuteeeeeee',\n",
    "        'mam aupka language bahut acha lagta hai',\n",
    "        'very nice mam Maine banaya bhut testy Bani thanks',\n",
    "        'you deserve 10M subscribers mam',\n",
    "        'superb',\n",
    "        'you are a gem Much love',\n",
    "        'kabita mam i follow u regularly n ur dishes nvr fail to get me appreciaion from my mother',\n",
    "        'owowwo Nice one mam',\n",
    "        'u r tips r really good',\n",
    "        'i don t like your style',\n",
    "        'gajab ek no ban',\n",
    "        'mashallah Bahut Umda', \n",
    "        'all credit goes to u',   \n",
    "        'mem aap bhut acha Khan bante ho',\n",
    "        'most wonderful and welcome',\n",
    "        'swaad hi aa gya.. mast bni h biryani.. thanku mam',\n",
    "        'u r good as always',\n",
    "        'my god bless your hands thank you mam',\n",
    "        'fantastic good job',\n",
    "        'waah kavita di mjaa aa gya. Hats off to u',\n",
    "        'star***** you are a star in cooking....loyal',\n",
    "        'bhut sundr ha aap',\n",
    "        'bahoot achhi',\n",
    "        'love u a lottttt...may god bless u wdh d entire happiness of dis world',\n",
    "        'ur SWEET mam',\n",
    "        'very helpful.. Thanku mam',\n",
    "        'bahut bahut bahut achha laga',\n",
    "        'i love your innovativ idea',\n",
    "        'dear aunty g You deserve an Oscar for cooking from us',\n",
    "        'mai apki bohot badhi fan hun',\n",
    "        'great dear',\n",
    "        'im ur biggest fan kabita ji.. n my mom also',\n",
    "        'aap k bataney ka tarika bahut acha hey',\n",
    "        'hats off 2 u',\n",
    "        'thanx...its very easy',\n",
    "        'allah ne kya hunar baksha h',\n",
    "        'jb se apke btaye trike se khana bnane lgi hn mere hubby bahr khana hi chhod diye thhhhnxxx didu',\n",
    "        'i love your simple preparation..keep going',\n",
    "        'bohot achha...thank u',\n",
    "        'beautiful',\n",
    "        'I dont like it at all',\n",
    "        'Jal gaya tha',\n",
    "        'Naaam bada darshan chota not satisfied with this recipe lots of mistake',\n",
    "        'bakwash',\n",
    "        'chiii mene try ki ghr pr  biryani ki naam ki insult h ye plzz guys koi try mt krna ghr pr',\n",
    "        'I dont like this biriyani',\n",
    "        'Lolllll Yeh biryani Hai ya sabji Ese Todhi na Banti Hai pagal biryani',\n",
    "        'badi mushkil h',\n",
    "        'thnxc for vidoes.....kavita mam',\n",
    "        'I hate it',\n",
    "        'I don t like maggi',\n",
    "        'Banne ke bad bahut lalach lag raha hai',\n",
    "        'Nice video',\n",
    "        'Your recipes are always good',\n",
    "        'Mujhe video bahot acchalaga',\n",
    "        'No one like u',  \n",
    "        'Very tasty luv it',  \n",
    "    ],\n",
    "    'reply':[\n",
    "        'im glad to hear you enjoyed it',\n",
    "        'youre welcome! sending respect right back at ya',\n",
    "        'thank you so much! That means a lot to me.',\n",
    "        'youre welcome! sending warm regards back to you',\n",
    "        'thank you for your kind words! I appreciate your encouragement',\n",
    "        'shukriya! aapka yeh izhar bahut khushi ka mauka hai.',\n",
    "        'bilkul koi baat nahi!',\n",
    "        'thank you',\n",
    "        'thats fantastic to hear! im thrilled the recipe turned out so well for you and that your family enjoyed it.',\n",
    "        'thank you so much! Madurai is such a beautiful place',\n",
    "        'i appreciate the compliment.',\n",
    "        'i appreciate it',\n",
    "        'thank you so much, im thrilled to hear that you enjoy my cooking videos',\n",
    "        'your feedback means a lot to me.',\n",
    "        'thank you! im glad you think so.',\n",
    "        'it warms my heart to hear that',\n",
    "        'i love you too, darling. you mean the world to me',\n",
    "        'thank you for your kind words',\n",
    "        'arrey wah, bohot accha hai! biryani banana ek art hai aur tumne pehli baar hi itna achha kiya, mubarak ho! Aur gharwale ki khushi ka koi mukabla nahi',\n",
    "        'hey, thank you! Bahut achha laga sunke ki aapko biryani pasand aayi. Khushi hui ki aapne try kiya aur pasand aaya. Agar koi aur recipe try karna ho toh mujhse share karna mat bhoolna',\n",
    "        'thank you for your kind words',\n",
    "        'thank you!',\n",
    "        'ji zaroor, apka koi sawal hai ya kuch specific janna chahte hain',\n",
    "        'arrey, thank you yaar! tum bhi bilkul cute ho',\n",
    "        'dhanyavad! Mujhe khushi hai ki aapko meri bhasha pasand aayi.',\n",
    "        'thank you! Aapka yeh feedback bahut achha laga',\n",
    "        'i truly appreciate your support and encouragement',\n",
    "        'thank you for the compliment',\n",
    "        'sending much love right back to you',\n",
    "        'im delighted to hear that my recipes have been a hit with you and your mother',\n",
    "        'im glad you liked it',\n",
    "        'im glad you find my tips helpful',\n",
    "        'i appreciate your feedback. is there something specific you d like to see differently, or any suggestions you have in mind',\n",
    "        'arre bhai, bilkul ek no! thanks yaar, tumne dil khush kar diya',\n",
    "        'mashallah, bahut shukriya! aapka pyaar aur sammaan hamesha ke liye yaad rahega',\n",
    "        'i really appreciate your acknowledgment',\n",
    "        'dhanyavaad! Main khana banane mein dil se laga hoon',\n",
    "        'thank you very much!',\n",
    "        'bohot khushi hui ki biryani pasand aayi! aapka swagat hai, anytime',\n",
    "        'thank you! I m here to help whenever you need assistance',\n",
    "        'thank you so much for your kind words! its my pleasure to help',\n",
    "        'your appreciation fuels my dedication',\n",
    "        'shukriya! aapka pyaar aur samman hamesha muskurahat ka saathi banata hai.',\n",
    "        'thank you for the stellar compliment',\n",
    "        'shukriya! Aapka yeh pyara sandesh mere dil ko choo gaya',\n",
    "        'kya baat hai, dil khush kar diya',\n",
    "        'your affection fills my heart with warmth and joy',\n",
    "        'thank you for your kindness',\n",
    "        'youre welcome! glad i could assist',\n",
    "        'yeh sunke mujhe bhi bahut khushi hui',\n",
    "        'your appreciation fuels my passion for innovation even more',\n",
    "        'thank you so much for the heartfelt compliment',\n",
    "        'wow, sach? Yeh toh amazing hai! Dil se shukriya, yaar',\n",
    "        'thanks!',\n",
    "        'im truly grateful to have fans like you and your mom',\n",
    "        'dhanyavaad! aapki tareef sun kar khushi hu',\n",
    "        'thank you! i tip my hat right back at you',\n",
    "        'glad I could make it straightforward for you',\n",
    "        'allah ne mujhe pyaar dena ka khaas hunar baksha hai',\n",
    "        'arrey wah! bahut khushi hui sunke! Ab toh apka ghar ka khana hi sabka dil jeet raha hai na',\n",
    "        'thank you! Ill continue to keep things straightforward and enjoyable',\n",
    "        'bahut shukriya',\n",
    "        'thank you',\n",
    "        'I appreciate your honesty. Is there something we can do to make it better for you',\n",
    "        'Arre bhai, samajh gaya. Koi baat nahi, agli baar dekhte hain kaise kar sakte hain.',\n",
    "        'Understood, we all make the necessary adjustments',\n",
    "        'maafi yaar. Next time behtar koshish karenge',\n",
    "        'Samajh gaya, shayad kuch gadbad ho gayi hogi. Aage se try nahi karenge, koi baat nahi.',\n",
    "        'I understand. We will make sure to improve it next time',\n",
    "        'maafi yaar. Lagta hai kuch gadbad ho gayi. Agli baar behtar try karenge',\n",
    "        'kuch cheezein thodi mushkil hoti hain. Par hum try karenge aur behtar karenge.',\n",
    "        'Youre welcome! Im glad you found the videos helpful',\n",
    "        'I understand. Thank you for sharing your honest opinion',\n",
    "        'Got it, noted. We ll keep that in mind for future reference',\n",
    "        'khane ke baad lalach toh hota hi hai. Par hosh mein raho, control karo',\n",
    "        'Thank you! Im glad you enjoyed the video',\n",
    "        'Thank you for the compliment! I strive to create unique and delicious recipes',\n",
    "        'maza aaya! Agli baar bhi dekhenge.',\n",
    "        'Thank you for your feedback. I will strive to improve and hopefully win you over in the future.',\n",
    "        'Im glad you enjoyed it! Your appreciation means a lot.'\n",
    "    ]\n",
    "})\n",
    "\n",
    "df=df.to_csv('_data.csv',index=False)"
   ]
  },
  {
   "cell_type": "code",
   "execution_count": 2,
   "metadata": {},
   "outputs": [],
   "source": [
    "df=pd.read_csv('./_data.csv')"
   ]
  },
  {
   "cell_type": "code",
   "execution_count": 3,
   "metadata": {},
   "outputs": [],
   "source": [
    "import pandas as pd\n",
    "import torch\n",
    "from transformers import T5ForConditionalGeneration, T5Tokenizer, TrainingArguments, Trainer, DataCollatorForSeq2Seq\n",
    "from datasets import Dataset\n",
    "from transformers import DataCollatorWithPadding\n",
    "import warnings\n",
    "warnings.filterwarnings('ignore')"
   ]
  },
  {
   "cell_type": "code",
   "execution_count": 4,
   "metadata": {},
   "outputs": [],
   "source": [
    "dataset = Dataset.from_pandas(df)\n",
    "dataset = dataset.train_test_split(test_size=0.2, seed=42)\n",
    "\n",
    "train_dataset = dataset['train']\n",
    "test_dataset = dataset['test']"
   ]
  },
  {
   "cell_type": "code",
   "execution_count": 5,
   "metadata": {},
   "outputs": [
    {
     "name": "stderr",
     "output_type": "stream",
     "text": [
      "You are using the default legacy behaviour of the <class 'transformers.models.t5.tokenization_t5.T5Tokenizer'>. This is expected, and simply means that the `legacy` (previous) behavior will be used so nothing changes for you. If you want to use the new behaviour, set `legacy=False`. This should only be set if you understand what it means, and thoroughly read the reason why this was added as explained in https://github.com/huggingface/transformers/pull/24565\n",
      "Special tokens have been added in the vocabulary, make sure the associated word embeddings are fine-tuned or trained.\n"
     ]
    }
   ],
   "source": [
    "MODEL_NAME = 't5-large' #'t5-small'#'t5-base'\n",
    "tokenizer = T5Tokenizer.from_pretrained(MODEL_NAME)"
   ]
  },
  {
   "cell_type": "code",
   "execution_count": 6,
   "metadata": {},
   "outputs": [],
   "source": [
    "def pre_process(example):\n",
    "    data={}\n",
    "    data['prompt']=[f\"comments: {comment}\" for comment in example[\"comments\"]]\n",
    "    \n",
    "    data['response']=[f'reply:{reply}' for reply in example['reply']]\n",
    "    \n",
    "    inputs = tokenizer(data['prompt'], padding='max_length', truncation=True, max_length=512)\n",
    "    targets = tokenizer(data['response'], padding='max_length', truncation=True, max_length=256)\n",
    "\n",
    "    inputs.update({'labels': targets[\"input_ids\"]})\n",
    "    return inputs"
   ]
  },
  {
   "cell_type": "code",
   "execution_count": 7,
   "metadata": {},
   "outputs": [
    {
     "data": {
      "application/vnd.jupyter.widget-view+json": {
       "model_id": "10d9531fa5b44cc69e1a22195001bd5d",
       "version_major": 2,
       "version_minor": 0
      },
      "text/plain": [
       "Map:   0%|          | 0/64 [00:00<?, ? examples/s]"
      ]
     },
     "metadata": {},
     "output_type": "display_data"
    },
    {
     "data": {
      "application/vnd.jupyter.widget-view+json": {
       "model_id": "6ebec79be1d54b34a965e9e0c82b2f63",
       "version_major": 2,
       "version_minor": 0
      },
      "text/plain": [
       "Map:   0%|          | 0/16 [00:00<?, ? examples/s]"
      ]
     },
     "metadata": {},
     "output_type": "display_data"
    }
   ],
   "source": [
    "train_dataset = train_dataset.map(pre_process, batched=True)\n",
    "test_dataset = test_dataset.map(pre_process, batched=True)\n",
    "\n",
    "data_collator = DataCollatorForSeq2Seq(tokenizer=tokenizer,return_tensors='pt')"
   ]
  },
  {
   "cell_type": "code",
   "execution_count": 9,
   "metadata": {},
   "outputs": [
    {
     "data": {
      "application/vnd.jupyter.widget-view+json": {
       "model_id": "eb0fa7dbd5b64f64bcfcf32b33424861",
       "version_major": 2,
       "version_minor": 0
      },
      "text/plain": [
       "  0%|          | 0/63 [00:00<?, ?it/s]"
      ]
     },
     "metadata": {},
     "output_type": "display_data"
    },
    {
     "ename": "",
     "evalue": "",
     "output_type": "error",
     "traceback": [
      "\u001b[1;31mThe Kernel crashed while executing code in the current cell or a previous cell. \n",
      "\u001b[1;31mPlease review the code in the cell(s) to identify a possible cause of the failure. \n",
      "\u001b[1;31mClick <a href='https://aka.ms/vscodeJupyterKernelCrash'>here</a> for more info. \n",
      "\u001b[1;31mView Jupyter <a href='command:jupyter.viewOutput'>log</a> for further details."
     ]
    }
   ],
   "source": [
    "#train model here\n",
    "model = T5ForConditionalGeneration.from_pretrained(MODEL_NAME)\n",
    "\n",
    "TRAINING_OUTPUT = './sampl' #r\"D:/GenAI/T5/health_samp\"\n",
    "training_args = TrainingArguments(\n",
    "    output_dir=TRAINING_OUTPUT,\n",
    "    num_train_epochs=9,\n",
    "    per_device_train_batch_size=10,  # Lower batch size for T5 models\n",
    "    per_device_eval_batch_size=10,   # Lower batch size for T5 models\n",
    "    save_strategy=\"epoch\",\n",
    "    learning_rate=0.001,\n",
    "    save_steps=10000,\n",
    "    max_grad_norm=0.9,\n",
    "    eval_steps=1000,\n",
    ")\n",
    "\n",
    "trainer = Trainer(\n",
    "    model=model,\n",
    "    args=training_args,\n",
    "    train_dataset=train_dataset,\n",
    "    data_collator=data_collator,\n",
    "    eval_dataset=test_dataset,  \n",
    ")\n",
    "trainer.train()"
   ]
  },
  {
   "cell_type": "code",
   "execution_count": null,
   "metadata": {},
   "outputs": [],
   "source": [
    "trainer.save_model('./new_finetune-t5')"
   ]
  },
  {
   "cell_type": "code",
   "execution_count": null,
   "metadata": {},
   "outputs": [],
   "source": [
    "model1 = T5ForConditionalGeneration.from_pretrained('./new_finetune-t5')\n",
    "tokenizer=T5Tokenizer.from_pretrained('t5-base')"
   ]
  },
  {
   "cell_type": "code",
   "execution_count": null,
   "metadata": {},
   "outputs": [],
   "source": [
    "# function for generate reply using encoders and decoders\n",
    "def generate_reply(text):\n",
    "    inputs = tokenizer( text, return_tensors='pt', max_length=256, padding='max_length', truncation=True)\n",
    "    outputs = model1.generate(inputs['input_ids'],\n",
    "                             max_length=256, \n",
    "                             no_repeat_ngram_size=1, \n",
    "                             num_beams=30, \n",
    "                             early_stopping=True,\n",
    "                            )\n",
    "    summary = tokenizer.decode(outputs[0], skip_special_tokens=True)\n",
    "    return summary"
   ]
  },
  {
   "cell_type": "code",
   "execution_count": null,
   "metadata": {},
   "outputs": [],
   "source": []
  }
 ],
 "metadata": {
  "kernelspec": {
   "display_name": "base",
   "language": "python",
   "name": "python3"
  },
  "language_info": {
   "codemirror_mode": {
    "name": "ipython",
    "version": 3
   },
   "file_extension": ".py",
   "mimetype": "text/x-python",
   "name": "python",
   "nbconvert_exporter": "python",
   "pygments_lexer": "ipython3",
   "version": "3.11.5"
  }
 },
 "nbformat": 4,
 "nbformat_minor": 2
}
