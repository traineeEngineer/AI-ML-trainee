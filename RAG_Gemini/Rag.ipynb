{
 "cells": [
  {
   "cell_type": "code",
   "execution_count": 13,
   "metadata": {},
   "outputs": [],
   "source": [
    "# step-1 :load documents any type\n",
    "from langchain_community.document_loaders import PyPDFLoader\n",
    "\n",
    "loder=PyPDFLoader('YOLO.pdf')\n",
    "data=loder.load()"
   ]
  },
  {
   "cell_type": "code",
   "execution_count": 14,
   "metadata": {},
   "outputs": [],
   "source": [
    "# step-2: split document into smaller chunks \n",
    "from langchain.text_splitter import RecursiveCharacterTextSplitter\n",
    "text_spliter=RecursiveCharacterTextSplitter(chunk_size=1000)\n",
    "docs=text_spliter.split_documents(data)"
   ]
  },
  {
   "cell_type": "code",
   "execution_count": 15,
   "metadata": {},
   "outputs": [
    {
     "data": {
      "text/plain": [
       "Document(metadata={'source': 'YOLO.pdf', 'page': 3}, page_content='Proposal + Classification')"
      ]
     },
     "execution_count": 15,
     "metadata": {},
     "output_type": "execute_result"
    }
   ],
   "source": [
    "docs[3]"
   ]
  },
  {
   "cell_type": "code",
   "execution_count": 16,
   "metadata": {},
   "outputs": [],
   "source": [
    "# step-3: Perform Text Embeddings\n",
    "from langchain_chroma import Chroma\n",
    "from langchain_google_genai.embeddings import GoogleGenerativeAIEmbeddings\n",
    "from dotenv import load_dotenv\n",
    "\n",
    "load_dotenv()\n",
    "\n",
    "embeddings=GoogleGenerativeAIEmbeddings(model='models/embedding-001')"
   ]
  },
  {
   "cell_type": "code",
   "execution_count": 17,
   "metadata": {},
   "outputs": [],
   "source": [
    "# step-4 :store vectors into Chroma,FAISS,PINECONE Vector DBs\n",
    "vec_store=Chroma.from_documents(documents=docs,embedding=embeddings)"
   ]
  },
  {
   "cell_type": "code",
   "execution_count": 18,
   "metadata": {},
   "outputs": [
    {
     "data": {
      "text/plain": [
       "'Outline \\n1. Review: R-CNN \\n2. YOLO:     -- Detection Procedure \\n                    -- Network Design \\n                    -- Training Part \\n                    -- Experiments'"
      ]
     },
     "execution_count": 18,
     "metadata": {},
     "output_type": "execute_result"
    }
   ],
   "source": [
    "# step-5: retrive data from VecDB using retrivers\n",
    "retriever=vec_store.as_retriever(search_type='similarity',search_kwargs={'k':10})\n",
    "retrieved_docs=retriever.invoke(\"what is in new yolo\")\n",
    "retrieved_docs[5].page_content"
   ]
  },
  {
   "cell_type": "code",
   "execution_count": 19,
   "metadata": {},
   "outputs": [],
   "source": [
    "# step-6 : load LLM model\n",
    "from langchain_google_genai import ChatGoogleGenerativeAI\n",
    "llm=ChatGoogleGenerativeAI(model='models/gemini-1.5-pro',temperature=0,max_tokens=None)"
   ]
  },
  {
   "cell_type": "code",
   "execution_count": 20,
   "metadata": {},
   "outputs": [],
   "source": [
    "# step-7 :chains and reterival question answer\n",
    "from langchain.chains import create_retrieval_chain\n",
    "from langchain.chains.combine_documents import create_stuff_documents_chain\n",
    "from langchain_core.prompts import ChatPromptTemplate\n",
    "\n",
    "system_prompt=\"\"\"\n",
    "You are assistant for question and answering tasks.\n",
    "if you don't know the answer ,say that you don't know\n",
    "answer concise\n",
    "\\n\\n\n",
    "{context}\n",
    "\"\"\"\n",
    "\n",
    "prompt=ChatPromptTemplate.from_messages(\n",
    "    [\n",
    "        (\"system\",system_prompt),\n",
    "        ('human','question:{input}')\n",
    "    ]\n",
    ")"
   ]
  },
  {
   "cell_type": "code",
   "execution_count": 23,
   "metadata": {},
   "outputs": [
    {
     "data": {
      "text/plain": [
       "'No, YOLO can be used for other tasks like image classification and tracking. \\n'"
      ]
     },
     "execution_count": 23,
     "metadata": {},
     "output_type": "execute_result"
    }
   ],
   "source": [
    "\n",
    "question_answer_chain=create_stuff_documents_chain(llm,prompt)\n",
    "rag_chain=create_retrieval_chain(retriever,question_answer_chain)\n",
    "response=rag_chain.invoke({\"input\":\"yolo works only for object detection?\"})\n",
    "response['answer']"
   ]
  },
  {
   "cell_type": "code",
   "execution_count": null,
   "metadata": {},
   "outputs": [],
   "source": []
  }
 ],
 "metadata": {
  "kernelspec": {
   "display_name": "base",
   "language": "python",
   "name": "python3"
  },
  "language_info": {
   "codemirror_mode": {
    "name": "ipython",
    "version": 3
   },
   "file_extension": ".py",
   "mimetype": "text/x-python",
   "name": "python",
   "nbconvert_exporter": "python",
   "pygments_lexer": "ipython3",
   "version": "3.12.4"
  }
 },
 "nbformat": 4,
 "nbformat_minor": 2
}
