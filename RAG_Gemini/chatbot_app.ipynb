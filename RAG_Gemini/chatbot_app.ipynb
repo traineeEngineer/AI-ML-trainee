{
 "cells": [
  {
   "cell_type": "code",
   "execution_count": 1,
   "metadata": {},
   "outputs": [
    {
     "name": "stderr",
     "output_type": "stream",
     "text": [
      "Python-dotenv could not parse statement starting at line 1\n",
      "Python-dotenv could not parse statement starting at line 5\n"
     ]
    }
   ],
   "source": [
    "from langchain_google_genai import ChatGoogleGenerativeAI\n",
    "# to create Chatbot require this template\n",
    "from langchain_core.prompts import ChatPromptTemplate \n",
    "from langchain_core.output_parsers import StrOutputParser\n",
    "\n",
    "\n",
    "from dotenv import load_dotenv\n",
    "\n",
    "load_dotenv()\n",
    "import os\n"
   ]
  },
  {
   "cell_type": "code",
   "execution_count": 2,
   "metadata": {},
   "outputs": [],
   "source": [
    "os.environ['GOOGLE_API_KEY']=os.getenv('GOOGLE_API_KEY')\n",
    "os.environ['LANGCHAIN_TRACING_V2']=\"true\"\n",
    "os.environ['LANGCHAIN_API_KEY']=os.getenv(\"LANGCHAIN_API_KEY\")"
   ]
  },
  {
   "cell_type": "code",
   "execution_count": 3,
   "metadata": {},
   "outputs": [],
   "source": [
    "# prompt template\n",
    "prompt_template=ChatPromptTemplate.from_messages(\n",
    "    [\n",
    "        (\"system\",'you are helpful assistant. Please response to the queries '),\n",
    "        (\"human\",\"Question:{question}\")\n",
    "    ]\n",
    ")"
   ]
  },
  {
   "cell_type": "code",
   "execution_count": 8,
   "metadata": {},
   "outputs": [],
   "source": [
    "llm=ChatGoogleGenerativeAI(model=\"gemini-1.5-flash\")\n",
    "output_parser=StrOutputParser()\n",
    "chain=prompt_template|llm|output_parser"
   ]
  },
  {
   "cell_type": "code",
   "execution_count": 10,
   "metadata": {},
   "outputs": [
    {
     "data": {
      "text/plain": [
       "'A Waqf board is a **legal and administrative body responsible for managing and overseeing Waqf properties**. \\n\\nHere\\'s a breakdown:\\n\\n* **Waqf:**  In Islamic law, Waqf refers to the **permanent dedication of property or assets for charitable or religious purposes**. The owner of the property, the \"waqif,\" places it under the control of a Waqf board. \\n* **Waqf Board\\'s Role:** The Waqf board is entrusted with the following responsibilities:\\n    * **Administration:**  Managing the Waqf property, including collecting rent or income, maintaining the property, and ensuring its continued use for the intended purpose.\\n    * **Investment:**  Investing Waqf funds in a way that generates income and ensures its sustainability.\\n    * **Distribution:**  Distributing the income generated from the Waqf property according to the terms specified by the \"waqif\" (the original donor). This distribution typically goes towards charitable causes, mosques, educational institutions, or other specified beneficiaries.\\n    * **Enforcement:**  Ensuring that the Waqf property is used in accordance with the original intention of the \"waqif\" and that the beneficiaries receive the benefits they are entitled to.\\n\\n**Waqf boards can operate at various levels:**\\n\\n* **National level:** Many countries have national Waqf boards that oversee Waqf properties and regulate their administration.\\n* **Local level:** Some countries also have local Waqf boards that manage Waqf properties within specific regions or cities.\\n\\n**Significance of Waqf Boards:**\\n\\n* **Preservation of Islamic values:** Waqf boards play a vital role in upholding Islamic principles of charity, social justice, and community development.\\n* **Sustainable development:**  By managing Waqf properties effectively, boards ensure their long-term sustainability and the continued benefit of the community.\\n* **Social welfare:**  Waqf boards contribute to the well-being of society by funding various social programs, such as education, healthcare, and poverty alleviation.\\n\\nIt\\'s important to note that the specific functions and structure of Waqf boards can vary depending on the country and its legal framework. \\n'"
      ]
     },
     "execution_count": 10,
     "metadata": {},
     "output_type": "execute_result"
    }
   ],
   "source": [
    "chain.invoke({\"question\":\"tell me what is waqf board ?\"})"
   ]
  },
  {
   "cell_type": "code",
   "execution_count": null,
   "metadata": {},
   "outputs": [],
   "source": []
  }
 ],
 "metadata": {
  "kernelspec": {
   "display_name": "base",
   "language": "python",
   "name": "python3"
  },
  "language_info": {
   "codemirror_mode": {
    "name": "ipython",
    "version": 3
   },
   "file_extension": ".py",
   "mimetype": "text/x-python",
   "name": "python",
   "nbconvert_exporter": "python",
   "pygments_lexer": "ipython3",
   "version": "3.12.4"
  }
 },
 "nbformat": 4,
 "nbformat_minor": 2
}
