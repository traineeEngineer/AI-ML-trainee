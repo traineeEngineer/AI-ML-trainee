{
 "cells": [
  {
   "cell_type": "code",
   "execution_count": 1,
   "metadata": {},
   "outputs": [
    {
     "name": "stdout",
     "output_type": "stream",
     "text": [
      "you won....\n"
     ]
    }
   ],
   "source": [
    "# while condition:\n",
    "\n",
    "secret=9\n",
    "guess=0\n",
    "guess_limlit=3\n",
    "while guess<guess_limlit:\n",
    "    guesses=int(input(\"guess number:\"))\n",
    "    guess+=1\n",
    "    if guesses == secret:\n",
    "        print(\"you won....\")\n",
    "        break \n",
    "else:\n",
    "    print(\"you failed....\")      "
   ]
  },
  {
   "cell_type": "code",
   "execution_count": 3,
   "metadata": {},
   "outputs": [
    {
     "name": "stdout",
     "output_type": "stream",
     "text": [
      " i dont understand\n"
     ]
    }
   ],
   "source": [
    "command=\"\"\n",
    "while True:\n",
    "    command=input(\"<\").lower()\n",
    "    if command=='start':\n",
    "        print(\"car started\")\n",
    "    elif command =='stop':\n",
    "        print(\"car stopped\")\n",
    "    elif command=='help':\n",
    "        print(\"\"\"\n",
    "        start- car start\n",
    "        stop - car stop\n",
    "        quit - to quit      \n",
    "              \"\"\")\n",
    "    elif command =='quit':\n",
    "        break\n",
    "    else:\n",
    "       print(\" i dont understand\")    \n",
    "        "
   ]
  },
  {
   "cell_type": "code",
   "execution_count": 4,
   "metadata": {},
   "outputs": [
    {
     "name": "stdout",
     "output_type": "stream",
     "text": [
      "p\n",
      "y\n",
      "t\n",
      "h\n",
      "o\n",
      "n\n"
     ]
    }
   ],
   "source": [
    "for item in 'python':\n",
    "    print(item)"
   ]
  },
  {
   "cell_type": "code",
   "execution_count": 9,
   "metadata": {},
   "outputs": [
    {
     "data": {
      "text/plain": [
       "5"
      ]
     },
     "execution_count": 9,
     "metadata": {},
     "output_type": "execute_result"
    }
   ],
   "source": [
    "def lengthlastword(s):\n",
    "    return len(s.strip().split()[-1]) \n",
    "\n",
    "s=\"Hello World\"\n",
    "lengthlastword(s)"
   ]
  },
  {
   "cell_type": "code",
   "execution_count": null,
   "metadata": {},
   "outputs": [
    {
     "name": "stdout",
     "output_type": "stream",
     "text": [
      "1\n",
      "a\n",
      "b\n",
      "c\n",
      "2\n",
      "3\n",
      "None\n"
     ]
    }
   ],
   "source": [
    "str = \"1abc23\"\n",
    "\n",
    "def findsum(s):\n",
    "    for char in s:\n",
    "        print(char)  \n",
    "\n",
    "print(findsum(str))       "
   ]
  },
  {
   "cell_type": "code",
   "execution_count": 11,
   "metadata": {},
   "outputs": [
    {
     "data": {
      "text/plain": [
       "'ecneicsatad'"
      ]
     },
     "execution_count": 11,
     "metadata": {},
     "output_type": "execute_result"
    }
   ],
   "source": [
    "# Reverse String without usng slice\n",
    "\n",
    "def reverse_Str(str):\n",
    "    revers=\"\"\n",
    "    \n",
    "    for val in str:\n",
    "        revers=val+revers\n",
    "    return revers\n",
    "\n",
    "s=\"datascience\"\n",
    "reverse_Str(s)"
   ]
  },
  {
   "cell_type": "code",
   "execution_count": 16,
   "metadata": {},
   "outputs": [
    {
     "data": {
      "text/plain": [
       "10"
      ]
     },
     "execution_count": 16,
     "metadata": {},
     "output_type": "execute_result"
    }
   ],
   "source": [
    "# Count Vowels in string\n",
    "\n",
    "def count_vowels(str):\n",
    "    vowels=\"AEIOUaeiou\"\n",
    "    count=0\n",
    "    for ch in str:\n",
    "        if ch in vowels:\n",
    "            count+=1\n",
    "    return count\n",
    "\n",
    "str=\"Artificial Intelligence\"\n",
    "count_vowels(str)"
   ]
  },
  {
   "cell_type": "code",
   "execution_count": 22,
   "metadata": {},
   "outputs": [
    {
     "data": {
      "text/plain": [
       "{'python': 2, 'is': 2, 'easy': 1, 'and': 1, 'powerful': 1}"
      ]
     },
     "execution_count": 22,
     "metadata": {},
     "output_type": "execute_result"
    }
   ],
   "source": [
    "# word frequecey in sentece\n",
    "def word_frequency(str):\n",
    "    s=str.split()\n",
    "    freq={}\n",
    "    for ch in s:\n",
    "        freq[ch]=freq.get(ch,0)+1\n",
    "    return freq\n",
    "\n",
    "s=\"python is easy and python is powerful\"\n",
    "word_frequency(s) \n",
    "    "
   ]
  },
  {
   "cell_type": "code",
   "execution_count": 45,
   "metadata": {},
   "outputs": [
    {
     "data": {
      "text/plain": [
       "23"
      ]
     },
     "execution_count": 45,
     "metadata": {},
     "output_type": "execute_result"
    }
   ],
   "source": [
    "#  second largest number in list\n",
    "def second_largest_num(nums):\n",
    "    for val in range(len(nums)):\n",
    "        for val2 in range(val+1,len(nums)):\n",
    "            if nums[val]>nums[val2]:\n",
    "                nums[val],nums[val2]=nums[val2],nums[val]\n",
    "    return nums[-2]\n",
    "                \n",
    "\n",
    "nums=[10,4,23,7,56,23]\n",
    "second_largest_num(nums)\n",
    "      "
   ]
  },
  {
   "cell_type": "code",
   "execution_count": 46,
   "metadata": {},
   "outputs": [
    {
     "data": {
      "text/plain": [
       "[1, 2, 3, 4, 5]"
      ]
     },
     "execution_count": 46,
     "metadata": {},
     "output_type": "execute_result"
    }
   ],
   "source": [
    "#  remove duplicate in list preserveorder\n",
    "\n",
    "def remove_duplicates_in_list(nums):\n",
    "    duplicates=[]\n",
    "    for val in nums:\n",
    "        if val not in duplicates:\n",
    "            duplicates.append(val)\n",
    "    return duplicates\n",
    "    \n",
    "\n",
    "nums=[1,2,2,3,1,4,5,4]\n",
    "remove_duplicates_in_list(nums)"
   ]
  },
  {
   "cell_type": "code",
   "execution_count": null,
   "metadata": {},
   "outputs": [
    {
     "data": {
      "text/plain": [
       "[1, 2, 3, 4, 5, 6]"
      ]
     },
     "execution_count": 71,
     "metadata": {},
     "output_type": "execute_result"
    }
   ],
   "source": [
    "# Flatten nested list\n",
    "\n",
    "def flat_nested_list(nums):\n",
    "    new_list=[]\n",
    "    for sublist in nums:\n",
    "        for item in sublist:\n",
    "            new_list.append(item)\n",
    "    return new_list\n",
    "             \n",
    "nums=[[1,2],[3,4],[5,6]]\n",
    "flat_nested_list(nums)"
   ]
  },
  {
   "cell_type": "code",
   "execution_count": null,
   "metadata": {},
   "outputs": [
    {
     "data": {
      "text/plain": [
       "[4, 5]"
      ]
     },
     "execution_count": 75,
     "metadata": {},
     "output_type": "execute_result"
    }
   ],
   "source": [
    "# Find common elements between 2 lists\n",
    "\n",
    "def common_diff(nums1,nums2):\n",
    "    new_list=[]\n",
    "    for ele in nums1:\n",
    "        if ele in nums2:\n",
    "            new_list.append(ele)\n",
    "    return new_list\n",
    "\n",
    "nums1=[1,2,3,4,5]\n",
    "nums2=[4,5,6,7,8]\n",
    "common_diff(nums1,nums2) "
   ]
  },
  {
   "cell_type": "code",
   "execution_count": 77,
   "metadata": {},
   "outputs": [
    {
     "data": {
      "text/plain": [
       "{'a': 1, 'b': 2, 'c': 3}"
      ]
     },
     "execution_count": 77,
     "metadata": {},
     "output_type": "execute_result"
    }
   ],
   "source": [
    "# Convert list of tuple to dictionary\n",
    "\n",
    "def convert(nums):\n",
    "    return dict(nums)\n",
    "\n",
    "\n",
    "nums=[('a',1),('b',2),('c',3)]\n",
    "convert(nums)"
   ]
  },
  {
   "cell_type": "code",
   "execution_count": 83,
   "metadata": {},
   "outputs": [
    {
     "data": {
      "text/plain": [
       "[4, 16, 36, 64, 100]"
      ]
     },
     "execution_count": 83,
     "metadata": {},
     "output_type": "execute_result"
    }
   ],
   "source": [
    "# Square of even numbers\n",
    "def sqaure_even(nums):\n",
    "    even_list=[]\n",
    "    for val in range(0,len(nums)):\n",
    "        if nums[val]%2==0:\n",
    "            even_list.append(nums[val]**2)\n",
    "    return even_list\n",
    "\n",
    "nums=[1,2,3,4,5,6,7,8,9,10]\n",
    "sqaure_even(nums)"
   ]
  },
  {
   "cell_type": "code",
   "execution_count": 87,
   "metadata": {},
   "outputs": [
    {
     "data": {
      "text/plain": [
       "[(2, 8), (3, 7)]"
      ]
     },
     "execution_count": 87,
     "metadata": {},
     "output_type": "execute_result"
    }
   ],
   "source": [
    "# Find all pairs that sum to target:\n",
    "def pair_sum(nums,target):\n",
    "    pairs=[]\n",
    "    for ele in range(len(nums)):\n",
    "        for ele2 in range(ele+1,len(nums)):\n",
    "            if nums[ele]+nums[ele2]==target:\n",
    "                pairs.append((nums[ele],nums[ele2]))\n",
    "    return pairs\n",
    "    \n",
    "    \n",
    "\n",
    "nums=[2,4,3,7,5,8]\n",
    "target=10\n",
    "pair_sum(nums,target)"
   ]
  },
  {
   "cell_type": "code",
   "execution_count": 89,
   "metadata": {},
   "outputs": [
    {
     "data": {
      "text/plain": [
       "{1: 2, 2: 3, 3: 1, 4: 1}"
      ]
     },
     "execution_count": 89,
     "metadata": {},
     "output_type": "execute_result"
    }
   ],
   "source": [
    "# Count occurance of each element:\n",
    "def count_occurance(nums):\n",
    "    freq={}\n",
    "    \n",
    "    for val in nums:\n",
    "        freq[val]=freq.get(val,0)+1\n",
    "    return freq\n",
    "\n",
    "nums=[1,2,2,3,1,4,2]\n",
    "count_occurance(nums)\n"
   ]
  },
  {
   "cell_type": "code",
   "execution_count": 90,
   "metadata": {},
   "outputs": [
    {
     "data": {
      "text/plain": [
       "['d', 'a', 't', 's', 'c', 'i', 'e', 'n']"
      ]
     },
     "execution_count": 90,
     "metadata": {},
     "output_type": "execute_result"
    }
   ],
   "source": [
    "# Find all unique character in string\n",
    "def find_uique(st):\n",
    "    uniq_char=[]\n",
    "    for ch in st:\n",
    "        if ch not in uniq_char:\n",
    "            uniq_char.append(ch)\n",
    "    return uniq_char\n",
    "    \n",
    "st=\"datascience\"\n",
    "find_uique(st)"
   ]
  },
  {
   "cell_type": "code",
   "execution_count": 93,
   "metadata": {},
   "outputs": [
    {
     "name": "stdout",
     "output_type": "stream",
     "text": [
      "[(4, 1), (1, 2), (3, 3), (2, 5)]\n"
     ]
    }
   ],
   "source": [
    "# Sort lsit of tuple by second element\n",
    "def sorted_tuple(nums):\n",
    "    for val in range(len(nums)):\n",
    "        for ele in range(val+1,len(nums)):\n",
    "            if nums[val][1]>nums[ele][1]:\n",
    "                nums[val],nums[ele]=nums[ele],nums[val]\n",
    "    return nums\n",
    "\n",
    "nums=[(2,5),(1,2),(4,1),(3,3)]\n",
    "print(sorted_tuple(nums))"
   ]
  },
  {
   "cell_type": "code",
   "execution_count": 4,
   "metadata": {},
   "outputs": [
    {
     "data": {
      "text/plain": [
       "'learning'"
      ]
     },
     "execution_count": 4,
     "metadata": {},
     "output_type": "execute_result"
    }
   ],
   "source": [
    "#  Find longest word in sentence\n",
    "\n",
    "def longest_word(st):\n",
    "    s=st.split()\n",
    "    longest=st[0]\n",
    "    \n",
    "    for ele in range(1,len(s)):\n",
    "        current=s[ele]\n",
    "        if len(current)>len(longest):\n",
    "            longest=current\n",
    "    return longest\n",
    "\n",
    "\n",
    "st=\"Machine learning is Powerful\"\n",
    "longest_word(st)"
   ]
  },
  {
   "cell_type": "code",
   "execution_count": 19,
   "metadata": {},
   "outputs": [
    {
     "data": {
      "text/plain": [
       "False"
      ]
     },
     "execution_count": 19,
     "metadata": {},
     "output_type": "execute_result"
    }
   ],
   "source": [
    "# check two strings are angram\n",
    "def check_anagram(s1,s2):\n",
    "    s1=s1.lower().replace(\" \",\"\")\n",
    "    s2=s2.lower().replace(\" \",\"\")\n",
    "    \n",
    "    if len(s1)!=len(s2):\n",
    "        return False\n",
    "    \n",
    "    final=0\n",
    "    for val in range(len(s1)):\n",
    "        final^=ord(s1[val])\n",
    "        final^=ord(s2[val])\n",
    "    return final==0\n",
    "\n",
    "s1=\"data\"\n",
    "s2=\"science\"\n",
    "check_anagram(s1,s2) \n",
    "   "
   ]
  },
  {
   "cell_type": "code",
   "execution_count": null,
   "metadata": {},
   "outputs": [
    {
     "data": {
      "text/plain": [
       "({1, 2, 3, 4, 5, 6}, {3, 4})"
      ]
     },
     "execution_count": 26,
     "metadata": {},
     "output_type": "execute_result"
    }
   ],
   "source": [
    "# Find intersection and union of set\n",
    "def find_intersection_union(s1,s2):\n",
    "    # union\n",
    "    union=s1|s2\n",
    "    intersection=set(s1)&set(s2)\n",
    "    return union,intersection\n",
    "    \n",
    "s1={1,2,3,4}\n",
    "s2={3,4,5,6}\n",
    "find_intersection_union(s1,s2)"
   ]
  },
  {
   "cell_type": "code",
   "execution_count": null,
   "metadata": {},
   "outputs": [
    {
     "data": {
      "text/plain": [
       "120"
      ]
     },
     "execution_count": 38,
     "metadata": {},
     "output_type": "execute_result"
    }
   ],
   "source": [
    "# Find factorial numbers\n",
    "def factorial(n):\n",
    "    if n==0:\n",
    "        return 1\n",
    "    res=1\n",
    "    for i in range(1, n+1):\n",
    "        res*=i\n",
    "    return res\n",
    "    \n",
    "n=5\n",
    "factorial(n)"
   ]
  },
  {
   "cell_type": "code",
   "execution_count": 42,
   "metadata": {},
   "outputs": [
    {
     "data": {
      "text/plain": [
       "True"
      ]
     },
     "execution_count": 42,
     "metadata": {},
     "output_type": "execute_result"
    }
   ],
   "source": [
    "# check prime\n",
    "def check_prime(n):\n",
    "    if n>1:\n",
    "        for i in range(2,n):\n",
    "            if n%i==0:\n",
    "                return False\n",
    "        return True\n",
    "n=5\n",
    "check_prime(n)"
   ]
  },
  {
   "cell_type": "code",
   "execution_count": 67,
   "metadata": {},
   "outputs": [
    {
     "data": {
      "text/plain": [
       "[0, 1, 1, 2, 3, 5, 8]"
      ]
     },
     "execution_count": 67,
     "metadata": {},
     "output_type": "execute_result"
    }
   ],
   "source": [
    "# Fibbonacci series\n",
    "def fibbo_series(n):\n",
    "    fibs=[0,1]\n",
    "    for _ in range(2,n):\n",
    "       fibs.append(fibs[-1]+fibs[-2])\n",
    "    return fibs\n",
    "    \n",
    "\n",
    "n=7\n",
    "list(fibbo_series(n))"
   ]
  },
  {
   "cell_type": "code",
   "execution_count": 74,
   "metadata": {},
   "outputs": [
    {
     "data": {
      "text/plain": [
       "15"
      ]
     },
     "execution_count": 74,
     "metadata": {},
     "output_type": "execute_result"
    }
   ],
   "source": [
    "#  find sum of digits in number\n",
    "def sum_digit(n):\n",
    "    total=0\n",
    "    while n>0:\n",
    "        digit=n%10\n",
    "        total+=digit\n",
    "        n//=10\n",
    "    return total\n",
    "    \n",
    "        \n",
    "    \n",
    "n=12345\n",
    "sum_digit(n)"
   ]
  },
  {
   "cell_type": "code",
   "execution_count": 85,
   "metadata": {},
   "outputs": [
    {
     "data": {
      "text/plain": [
       "'Interview science Data'"
      ]
     },
     "execution_count": 85,
     "metadata": {},
     "output_type": "execute_result"
    }
   ],
   "source": [
    "#  reverse word in sentence\n",
    "def reverse_words(s):\n",
    "    s=s.split()\n",
    "    reverses=[]\n",
    "    for i in range(len(s)-1,-1,-1):\n",
    "      reverses.append(s[i])\n",
    "    return \" \".join(reverses)\n",
    "s=\"Data science Interview\"\n",
    "reverse_words(s)"
   ]
  },
  {
   "cell_type": "code",
   "execution_count": 97,
   "metadata": {},
   "outputs": [
    {
     "data": {
      "text/plain": [
       "2"
      ]
     },
     "execution_count": 97,
     "metadata": {},
     "output_type": "execute_result"
    }
   ],
   "source": [
    "#  Count capital letter in string\n",
    "\n",
    "def count_caps(s):\n",
    "    count=0\n",
    "    for ch in s:\n",
    "       if ch.isupper():\n",
    "           count+=1\n",
    "    return count\n",
    "            \n",
    "            \n",
    "    \n",
    "s=\"DataScientist\"\n",
    "count_caps(s)"
   ]
  },
  {
   "cell_type": "code",
   "execution_count": 107,
   "metadata": {},
   "outputs": [
    {
     "data": {
      "text/plain": [
       "True"
      ]
     },
     "execution_count": 107,
     "metadata": {},
     "output_type": "execute_result"
    }
   ],
   "source": [
    "#  check number is perfect square\n",
    "def check_square(n):\n",
    "    if n>0:\n",
    "        sq=(n**0.5)\n",
    "    return sq*sq==n\n",
    "    \n",
    "n=25\n",
    "check_square(n)"
   ]
  },
  {
   "cell_type": "code",
   "execution_count": 123,
   "metadata": {},
   "outputs": [
    {
     "data": {
      "text/plain": [
       "6"
      ]
     },
     "execution_count": 123,
     "metadata": {},
     "output_type": "execute_result"
    }
   ],
   "source": [
    "#  Most frequent element in the list\n",
    "def most_common(n):\n",
    "    freq={}\n",
    "    for val in n:\n",
    "        freq[val]=freq.get(val,0)+1\n",
    "    for item ,_ in freq.items():\n",
    "        if freq[item]>2:\n",
    "            return item\n",
    "            \n",
    "        \n",
    "n=[4,6,2,6,7,6,2]\n",
    "most_common(n)"
   ]
  },
  {
   "cell_type": "code",
   "execution_count": null,
   "metadata": {},
   "outputs": [
    {
     "data": {
      "text/plain": [
       "{'Data': 4, 'science': 7, 'is': 2, 'fun': 3}"
      ]
     },
     "execution_count": 146,
     "metadata": {},
     "output_type": "execute_result"
    }
   ],
   "source": [
    "# Find the Length of Each Word in a Sentence\n",
    "def find_length(s):\n",
    "    s=s.split()\n",
    "    word_legth={}\n",
    "    \n",
    "    for word in s:\n",
    "        if word not in word_legth:\n",
    "            word_legth[word]=len(word)\n",
    "    return word_legth\n",
    "\n",
    "s=\"Data science is fun\"\n",
    "find_length(s)"
   ]
  },
  {
   "cell_type": "code",
   "execution_count": 149,
   "metadata": {},
   "outputs": [
    {
     "data": {
      "text/plain": [
       "False"
      ]
     },
     "execution_count": 149,
     "metadata": {},
     "output_type": "execute_result"
    }
   ],
   "source": [
    "#  amstrong number\n",
    "def amstrong(n):\n",
    "    sum=0\n",
    "    while n>0:\n",
    "        digit=n%10\n",
    "        sum+=digit**3\n",
    "        n//=10\n",
    "    return sum==n\n",
    "\n",
    "n=153\n",
    "amstrong(n)"
   ]
  },
  {
   "cell_type": "code",
   "execution_count": null,
   "metadata": {},
   "outputs": [
    {
     "data": {
      "text/plain": [
       "{'y': 15, 'z': 25, 'w': 20, 'x': 5}"
      ]
     },
     "execution_count": 184,
     "metadata": {},
     "output_type": "execute_result"
    }
   ],
   "source": [
    "# Merge Two Dictionaries (Sum Values for Common Keys)\n",
    "def merge_dict(a,b):\n",
    "    for key ,val in a.items():\n",
    "        if key in b:\n",
    "            b[key]+=val\n",
    "        else:\n",
    "            b[key]=val\n",
    "    return b    \n",
    "    \n",
    "    \n",
    "A = {'x': 5, 'y': 10, 'z': 15}\n",
    "B = {'y': 5, 'z': 10, 'w': 20}\n",
    "merge_dict(A,B)\n"
   ]
  },
  {
   "cell_type": "code",
   "execution_count": 190,
   "metadata": {},
   "outputs": [
    {
     "data": {
      "text/plain": [
       "'madam'"
      ]
     },
     "execution_count": 190,
     "metadata": {},
     "output_type": "execute_result"
    }
   ],
   "source": [
    "# Find the Longest Palindromic Word in a Sentence\n",
    "def find_long_palindrome(s):\n",
    "    s=s.split()\n",
    "    long_word=\"\"\n",
    "    for val in s:\n",
    "        if val==val[::-1]:\n",
    "            if len(val)>len(long_word):\n",
    "                long_word=val\n",
    "    return long_word\n",
    "            \n",
    "\n",
    "s=\"madam level noon civic python\"\n",
    "find_long_palindrome(s)"
   ]
  },
  {
   "cell_type": "code",
   "execution_count": 211,
   "metadata": {},
   "outputs": [
    {
     "data": {
      "text/plain": [
       "[2, 3, 5, 7, 11, 13, 17, 19]"
      ]
     },
     "execution_count": 211,
     "metadata": {},
     "output_type": "execute_result"
    }
   ],
   "source": [
    "# Generate a List of Prime Numbers up to N\n",
    "\n",
    "def range_prime(n):\n",
    "    lists=[]\n",
    "    for val in range(2,n+1):\n",
    "            for ele in range(2,val):\n",
    "                if val%ele==0:\n",
    "                     break\n",
    "            else:\n",
    "                lists.append(val)\n",
    "                    \n",
    "    return lists\n",
    "                \n",
    "\n",
    "\n",
    "n=20\n",
    "range_prime(n)"
   ]
  },
  {
   "cell_type": "code",
   "execution_count": 223,
   "metadata": {},
   "outputs": [
    {
     "data": {
      "text/plain": [
       "[40, 50]"
      ]
     },
     "execution_count": 223,
     "metadata": {},
     "output_type": "execute_result"
    }
   ],
   "source": [
    "#  Find Elements Greater Than Mean\n",
    "def great_than_mean(n):\n",
    "    sum=0\n",
    "    for val in n:\n",
    "        if val!=0:\n",
    "            sum+=val\n",
    "    \n",
    "    aveg=sum//len(n)\n",
    "    \n",
    "    count=[]\n",
    "    for val in n:\n",
    "        if val>aveg:\n",
    "            count.append(val)\n",
    "    return count\n",
    "    \n",
    "    \n",
    "input=[10, 20, 30, 40, 50]\n",
    "great_than_mean(input)"
   ]
  },
  {
   "cell_type": "code",
   "execution_count": null,
   "metadata": {},
   "outputs": [],
   "source": []
  },
  {
   "cell_type": "code",
   "execution_count": 234,
   "metadata": {},
   "outputs": [
    {
     "data": {
      "text/plain": [
       "[3, 5]"
      ]
     },
     "execution_count": 234,
     "metadata": {},
     "output_type": "execute_result"
    }
   ],
   "source": [
    "# Find Missing Numbers in a Range\n",
    "def find_missing(n):\n",
    "    n.sort()\n",
    "    missing=[]\n",
    "    \n",
    "    for i in range(len(n)-1):\n",
    "        currnet=n[i]\n",
    "        nex_val=n[i+1]\n",
    "        while currnet+1<nex_val:\n",
    "            missing.append(currnet+1)\n",
    "            currnet+=1\n",
    "    return missing\n",
    "        \n",
    "    \n",
    "    \n",
    "n=[1, 2, 4, 6, 7]\n",
    "find_missing(n)"
   ]
  },
  {
   "cell_type": "code",
   "execution_count": 239,
   "metadata": {},
   "outputs": [
    {
     "name": "stdout",
     "output_type": "stream",
     "text": [
      "[[1, 2, 3], [2, 4, 6], [3, 6, 9]]\n"
     ]
    }
   ],
   "source": [
    "# a = [[1],[2],[3]]\n",
    "# b = [1,2,3]\n",
    "\n",
    "def matrix_mul(a,b):\n",
    "    output = []\n",
    "    for row_a in a:\n",
    "        val_a = row_a[0]\n",
    "        row_output = []\n",
    "        for val_b in b:\n",
    "            row_output.append(val_a * val_b)\n",
    "        output.append(row_output)\n",
    "    return output\n",
    "            \n",
    "\n",
    "a = [[1],[2],[3]]\n",
    "b = [1,2,3]\n",
    "print(matrix_mul(a,b))\n",
    "        "
   ]
  },
  {
   "cell_type": "code",
   "execution_count": null,
   "metadata": {},
   "outputs": [],
   "source": []
  }
 ],
 "metadata": {
  "kernelspec": {
   "display_name": "Python 3",
   "language": "python",
   "name": "python3"
  },
  "language_info": {
   "codemirror_mode": {
    "name": "ipython",
    "version": 3
   },
   "file_extension": ".py",
   "mimetype": "text/x-python",
   "name": "python",
   "nbconvert_exporter": "python",
   "pygments_lexer": "ipython3",
   "version": "3.12.10"
  }
 },
 "nbformat": 4,
 "nbformat_minor": 2
}
