{
 "cells": [
  {
   "cell_type": "code",
   "execution_count": 1,
   "metadata": {},
   "outputs": [
    {
     "name": "stdout",
     "output_type": "stream",
     "text": [
      "connect successfully\n"
     ]
    }
   ],
   "source": [
    "from pymongo import MongoClient\n",
    "from dotenv import load_dotenv\n",
    "import os\n",
    "\n",
    "load_dotenv()\n",
    "\n",
    "uri=os.getenv(\"MONGODB_URI\")\n",
    "\n",
    "try:\n",
    "  client=MongoClient(uri)\n",
    "  print(\"connect successfully\")\n",
    "except:\n",
    "  print(\"cannot reach to mongodb\") "
   ]
  },
  {
   "cell_type": "code",
   "execution_count": 2,
   "metadata": {},
   "outputs": [
    {
     "data": {
      "text/plain": [
       "Database(MongoClient(host=['cluster0-shard-00-02.g1bcg.mongodb.net:27017', 'cluster0-shard-00-01.g1bcg.mongodb.net:27017', 'cluster0-shard-00-00.g1bcg.mongodb.net:27017'], document_class=dict, tz_aware=False, connect=True, retrywrites=True, w='majority', appname='Cluster0', authsource='admin', replicaset='atlas-bwu0y3-shard-0', tls=True), 'sample_db')"
      ]
     },
     "execution_count": 2,
     "metadata": {},
     "output_type": "execute_result"
    }
   ],
   "source": [
    "db=client[\"sample_db\"]\n",
    "db"
   ]
  },
  {
   "cell_type": "code",
   "execution_count": null,
   "metadata": {},
   "outputs": [],
   "source": [
    "my_collections=db.create_collection(\"actress_collection\")"
   ]
  },
  {
   "cell_type": "code",
   "execution_count": null,
   "metadata": {},
   "outputs": [],
   "source": [
    "db.list_collection_names()"
   ]
  },
  {
   "cell_type": "markdown",
   "metadata": {},
   "source": [
    "# Insert One Record "
   ]
  },
  {
   "cell_type": "code",
   "execution_count": 12,
   "metadata": {},
   "outputs": [],
   "source": [
    "acctress_record={\n",
    "    \"_id\":1,\n",
    "    \"name\":\"Rambha\",\n",
    "    \"Age\":47,\n",
    "    \"number_of_films\":54,\n",
    "    \"best_films_list\":[\"Arunachalam\",\"Bavagaru Bagunara\",\"Yevandoi avidochinidi\",\"A okti Adakku\"]\n",
    "}"
   ]
  },
  {
   "cell_type": "code",
   "execution_count": 13,
   "metadata": {},
   "outputs": [],
   "source": [
    "rec_1=my_collections.insert_one(acctress_record)"
   ]
  },
  {
   "cell_type": "code",
   "execution_count": 15,
   "metadata": {},
   "outputs": [],
   "source": [
    "acctress_record2={\n",
    "    \"_id\":2,\n",
    "    \"name\":\"Kajal Agarwal\",\n",
    "    \"Age\":39,\n",
    "    \"number_of_films\":27,\n",
    "    \"best_films_list\":[\"Darling\",\"Mr.Perfect\",\"Magadheera\",\"Chandamama\"]\n",
    "}"
   ]
  },
  {
   "cell_type": "code",
   "execution_count": 16,
   "metadata": {},
   "outputs": [],
   "source": [
    "rec_2=my_collections.insert_one(acctress_record2)"
   ]
  },
  {
   "cell_type": "code",
   "execution_count": 17,
   "metadata": {},
   "outputs": [],
   "source": [
    "acctress_records={\n",
    "    \"record_1\":{\n",
    "        \"_id\":3,\n",
    "        \"name\":\"Ramya Krishna\",\n",
    "        \"Age\":45,\n",
    "        \"number_of_films\":123,\n",
    "        \"best_films_list\":[\"Narashima\",\"Neelambari\",\"Bhahubali\",\"Bangraju\"]\n",
    "    },\n",
    "    \"record_2\":{\n",
    "        \"_id\":4,\n",
    "        \"name\":\"Trisha\",\n",
    "        \"Age\":47,\n",
    "        \"number_of_films\":78,\n",
    "        \"best_films_list\":[\"Bujjigadu\",\"Krishna\",\"Athadu\"]\n",
    "    }\n",
    "}\n",
    "for record in acctress_records.values():\n",
    "    my_collections.insert_one(record)"
   ]
  },
  {
   "cell_type": "markdown",
   "metadata": {},
   "source": [
    "# insert Many Record"
   ]
  },
  {
   "cell_type": "code",
   "execution_count": null,
   "metadata": {},
   "outputs": [],
   "source": [
    "student_collections=db.create_collection(\"Student_collections\")"
   ]
  },
  {
   "cell_type": "code",
   "execution_count": null,
   "metadata": {},
   "outputs": [],
   "source": [
    "student_lst=[\n",
    "    {\"_id\":1,\"name\":\"Vishwa\",\"Roll_no\":2001,\"Branch\":\"Mech\"},\n",
    "    {\"_id\":2,\"name\":\"Sravani\",\"Roll_no\":2103,\"Branch\":\"CSE\"},\n",
    "    {\"_id\":3,\"name\":\"Giri\",\"Roll_no\":2014,\"Branch\":\"Civil\"},\n",
    "    {\"_id\":4,\"name\":\"Bhanu\",\"Roll_no\":2002,\"Branch\":\"ECE\"},\n",
    "    {\"_id\":5,\"name\":\"Lavanya\",\"Roll_no\":2000,\"Branch\":\"Mech\"},\n",
    "    \n",
    "]\n",
    "\n",
    "student_collections.insert_many(student_lst)"
   ]
  },
  {
   "cell_type": "markdown",
   "metadata": {},
   "source": [
    "# Insert Record Automate Id"
   ]
  },
  {
   "cell_type": "code",
   "execution_count": null,
   "metadata": {},
   "outputs": [],
   "source": [
    "student_lst1=[\n",
    "    {\"name\":\"Bhairav\",\"Roll_no\":3033,\"Branch\":\"AIML\"},\n",
    "    {\"name\":\"Guna\",\"Roll_no\":1021,\"Branch\":\"DataEnginneer\"},\n",
    "]\n",
    "student_collections.insert_many(student_lst1)"
   ]
  },
  {
   "cell_type": "code",
   "execution_count": null,
   "metadata": {},
   "outputs": [],
   "source": [
    "student_collections=db[\"Student_collections\"]\n",
    "\n",
    "add_one_more_rec={\"name\":\"Sravani\",\"Roll_no\":1011,\"Branch\":\"EEE\"}\n",
    "\n",
    "student_collections.insert_one(add_one_more_rec)"
   ]
  },
  {
   "cell_type": "code",
   "execution_count": null,
   "metadata": {},
   "outputs": [],
   "source": [
    "cursor = student_collections.find() \n",
    "for record in cursor: \n",
    "    print(record) "
   ]
  },
  {
   "cell_type": "markdown",
   "metadata": {},
   "source": [
    "# Update One Record"
   ]
  },
  {
   "cell_type": "code",
   "execution_count": null,
   "metadata": {},
   "outputs": [],
   "source": [
    "student_collections=db[\"Student_collections\"]\n",
    "\n",
    "filter={\"_id\":4}\n",
    "\n",
    "update_value={\"$set\":{\"name\":\"Bhanumathi\"}}\n",
    "\n",
    "student_collections.update_one(filter,update_value)\n",
    "\n",
    "cursor = student_collections.find()\n",
    "for record in cursor: \n",
    "    print(record) "
   ]
  },
  {
   "cell_type": "markdown",
   "metadata": {},
   "source": [
    "# Update Many Record"
   ]
  },
  {
   "cell_type": "code",
   "execution_count": null,
   "metadata": {},
   "outputs": [],
   "source": [
    "actress_record=db['actress_collection']\n",
    "\n",
    "actress_record.update_many({\"number_of_films\":{\"$lt\":100}},\n",
    "                           {\"$set\":{\"Age\":30}})\n",
    "\n",
    "cursor=actress_record.find()\n",
    "for record in cursor:\n",
    "    print(record)"
   ]
  },
  {
   "cell_type": "markdown",
   "metadata": {},
   "source": [
    "# Replace one record"
   ]
  },
  {
   "cell_type": "code",
   "execution_count": null,
   "metadata": {},
   "outputs": [],
   "source": [
    "replace_one_actress_record=actress_record.replace_one(\n",
    "   {\"_id\":3},{\n",
    "       \"name\":\"Ramyakrishna\",\n",
    "       \"Age\":50,\n",
    "       \"number_of_films\":137,\n",
    "       \"best_films_list\":[\"Super Deluxe\",\"Ammoru\",\"Mahanubhavudu\",\"jailer\"]\n",
    "   }\n",
    "   \n",
    ")\n",
    "\n",
    "cursor=actress_record.find()\n",
    "\n",
    "for record in cursor:\n",
    "    print(record)"
   ]
  },
  {
   "cell_type": "markdown",
   "metadata": {},
   "source": [
    "# delete Collections"
   ]
  },
  {
   "cell_type": "code",
   "execution_count": 34,
   "metadata": {},
   "outputs": [],
   "source": [
    "new_collection=db.create_collection(\"employee_collection\")"
   ]
  },
  {
   "cell_type": "code",
   "execution_count": 35,
   "metadata": {},
   "outputs": [],
   "source": [
    "db[\"employee_collection\"].drop()"
   ]
  },
  {
   "cell_type": "markdown",
   "metadata": {},
   "source": [
    "# Delete collections Record"
   ]
  },
  {
   "cell_type": "code",
   "execution_count": 31,
   "metadata": {},
   "outputs": [],
   "source": [
    "student_collection=db[\"Student_collections\"]\n",
    "\n",
    "delete_student_one_record=student_collection.delete_one({\n",
    "    \"_id\":4\n",
    "})\n"
   ]
  },
  {
   "cell_type": "markdown",
   "metadata": {},
   "source": [
    "# delete _many_record"
   ]
  },
  {
   "cell_type": "code",
   "execution_count": null,
   "metadata": {},
   "outputs": [],
   "source": [
    "delete_student_more_record=student_collection.delete_many(\n",
    "    {\"name\":{\"$regex\":\"^G\"}}\n",
    ")\n",
    "delete_student_more_record.deleted_count"
   ]
  },
  {
   "cell_type": "markdown",
   "metadata": {},
   "source": [
    "# Find_one and Update"
   ]
  },
  {
   "cell_type": "code",
   "execution_count": 5,
   "metadata": {},
   "outputs": [
    {
     "name": "stdout",
     "output_type": "stream",
     "text": [
      "{'_id': 1, 'name': 'Vishwa', 'Roll_no': 2001, 'Branch': 'Mech'}\n",
      "{'_id': 2, 'name': 'Sravani', 'Roll_no': 2103, 'Branch': 'Mech'}\n",
      "{'_id': 5, 'name': 'Lavanya', 'Roll_no': 2000, 'Branch': 'Mech'}\n",
      "{'_id': ObjectId('6781f10c0bead7bf319efcaf'), 'name': 'Bhairav', 'Roll_no': 3033, 'Branch': 'AIML'}\n",
      "{'_id': ObjectId('678345b2772125790366d2af'), 'name': 'Sravani', 'Roll_no': 1011, 'Branch': 'EEE'}\n"
     ]
    }
   ],
   "source": [
    "doc=db[\"Student_collections\"]\n",
    "\n",
    "filter={\"name\":\"Sravani\"}\n",
    "\n",
    "find_one_and_update={'$set':{\"Branch\":\"Mech\"}}\n",
    "\n",
    "res=doc.find_one_and_update(filter,find_one_and_update)\n",
    "\n",
    "cursor=doc.find()\n",
    "\n",
    "for rec in cursor:\n",
    "    print(rec)"
   ]
  },
  {
   "cell_type": "code",
   "execution_count": 9,
   "metadata": {},
   "outputs": [
    {
     "name": "stdout",
     "output_type": "stream",
     "text": [
      "{'_id': 1, 'name': 'Vishwa', 'Roll_no': 2001, 'Branch': 'Mech'}\n",
      "{'_id': 2, 'name': 'Sravani', 'Roll_no': 2103, 'Branch': 'Mech'}\n",
      "{'_id': 5, 'name': 'Lavanya', 'Roll_no': 2000, 'Branch': 'Mech'}\n",
      "{'_id': ObjectId('6781f10c0bead7bf319efcaf'), 'name': 'Bhairavi', 'Roll_no': 3033, 'Branch': 'ECE'}\n",
      "{'_id': ObjectId('678345b2772125790366d2af'), 'name': 'Sravani', 'Roll_no': 1011, 'Branch': 'EEE'}\n"
     ]
    }
   ],
   "source": [
    "from pymongo import ReturnDocument\n",
    "filter={\"name\":\"Bhairav\"}\n",
    "\n",
    "find_one_and_updates={\"$set\":{\"name\":\"Bhairavi\",\"Branch\":\"ECE\"}}\n",
    "\n",
    "res=doc.find_one_and_update(filter,find_one_and_updates,return_document=ReturnDocument.AFTER)\n",
    "\n",
    "cursor=doc.find()\n",
    "\n",
    "for rec in cursor:\n",
    "    print(rec)"
   ]
  },
  {
   "cell_type": "markdown",
   "metadata": {},
   "source": [
    "# find_one and Delete"
   ]
  },
  {
   "cell_type": "code",
   "execution_count": 14,
   "metadata": {},
   "outputs": [
    {
     "name": "stdout",
     "output_type": "stream",
     "text": [
      "{'_id': 1, 'name': 'Rambha', 'Age': 30, 'number_of_films': 54, 'best_films_list': ['Arunachalam', 'Bavagaru Bagunara', 'Yevandoi avidochinidi', 'A okti Adakku']}\n",
      "{'_id': 3, 'name': 'Ramyakrishna', 'Age': 50, 'number_of_films': 137, 'best_films_list': ['Super Deluxe', 'Ammoru', 'Mahanubhavudu', 'jailer']}\n",
      "{'_id': 4, 'name': 'Trisha', 'Age': 30, 'number_of_films': 78, 'best_films_list': ['Bujjigadu', 'Krishna', 'Athadu']}\n"
     ]
    }
   ],
   "source": [
    "collection=db[\"actress_collection\"]\n",
    "filter={\"number_of_films\":{\"$lt\":30}}\n",
    "find_one_delete=collection.find_one_and_delete(filter)\n",
    "\n",
    "cursor=collection.find()\n",
    "\n",
    "for rec in cursor:\n",
    "    print(rec)"
   ]
  },
  {
   "cell_type": "markdown",
   "metadata": {},
   "source": [
    "# find_one and replace"
   ]
  },
  {
   "cell_type": "code",
   "execution_count": 18,
   "metadata": {},
   "outputs": [
    {
     "name": "stdout",
     "output_type": "stream",
     "text": [
      "{'name': 'Rambha', 'Age': 30, 'number_of_films': 54, 'best_films_list': ['Arunachalam', 'Bavagaru Bagunara', 'Yevandoi avidochinidi', 'A okti Adakku']}\n",
      "{'name': 'Ramyakrishna', 'Age': 50, 'number_of_films': 137, 'best_films_list': ['Super Deluxe', 'Ammoru', 'Mahanubhavudu', 'jailer']}\n",
      "{'name': 'TrishaKrishnan'}\n"
     ]
    }
   ],
   "source": [
    "filter={\"name\":\"Trisha\"}\n",
    "collection.find_one_and_replace(filter,{\"name\":\"TrishaKrishnan\"})\n",
    "\n",
    "for x in collection.find({},{\"_id\":0,\"name\":1,\"Age\":1,\"number_of_films\":1,\"best_films_list\":1}):\n",
    "    print(x)\n"
   ]
  },
  {
   "cell_type": "code",
   "execution_count": null,
   "metadata": {},
   "outputs": [],
   "source": []
  },
  {
   "cell_type": "code",
   "execution_count": null,
   "metadata": {},
   "outputs": [],
   "source": []
  },
  {
   "cell_type": "code",
   "execution_count": null,
   "metadata": {},
   "outputs": [],
   "source": []
  }
 ],
 "metadata": {
  "kernelspec": {
   "display_name": "base",
   "language": "python",
   "name": "python3"
  },
  "language_info": {
   "codemirror_mode": {
    "name": "ipython",
    "version": 3
   },
   "file_extension": ".py",
   "mimetype": "text/x-python",
   "name": "python",
   "nbconvert_exporter": "python",
   "pygments_lexer": "ipython3",
   "version": "3.12.7"
  }
 },
 "nbformat": 4,
 "nbformat_minor": 2
}
