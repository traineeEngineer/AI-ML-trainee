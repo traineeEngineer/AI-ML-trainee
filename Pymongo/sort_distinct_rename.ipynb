{
 "cells": [
  {
   "cell_type": "markdown",
   "metadata": {},
   "source": [
    "# Sorting New Records"
   ]
  },
  {
   "cell_type": "code",
   "execution_count": 1,
   "metadata": {},
   "outputs": [
    {
     "name": "stdout",
     "output_type": "stream",
     "text": [
      "connect successfully\n"
     ]
    }
   ],
   "source": [
    "from pymongo import MongoClient\n",
    "from dotenv import load_dotenv\n",
    "import os\n",
    "\n",
    "load_dotenv()\n",
    "\n",
    "uri=os.getenv(\"MONGODB_URI\")\n",
    "\n",
    "try:\n",
    "  client=MongoClient(uri)\n",
    "  print(\"connect successfully\")\n",
    "except:\n",
    "  print(\"cannot reach to mongodb\") "
   ]
  },
  {
   "cell_type": "code",
   "execution_count": 2,
   "metadata": {},
   "outputs": [],
   "source": [
    "# new Collections\n",
    "db=client[\"sample_db\"]"
   ]
  },
  {
   "cell_type": "code",
   "execution_count": null,
   "metadata": {},
   "outputs": [],
   "source": [
    "collection=db.create_collection(\"anime_collection\")"
   ]
  },
  {
   "cell_type": "code",
   "execution_count": 12,
   "metadata": {},
   "outputs": [],
   "source": [
    "anime_collection=db[\"anime_collection\"]"
   ]
  },
  {
   "cell_type": "code",
   "execution_count": 13,
   "metadata": {},
   "outputs": [
    {
     "data": {
      "text/plain": [
       "InsertManyResult([1, 2, 3, 4, 5, 6, 7, 8, 9, 10, 11, 12, 13, 14, 15, 16, 17, 18, 19, 20], acknowledged=True)"
      ]
     },
     "execution_count": 13,
     "metadata": {},
     "output_type": "execute_result"
    }
   ],
   "source": [
    "\n",
    "anime_lst=[\n",
    "    {\"_id\":1,\"name\":\"DandaDan\",\"year\":2024,\"genre\":[\"Action\",\"Adventure\",\"comedy\",\"fantasy\"],\"director\":\"Kaori Maeda\",\"Seasons\":1},\n",
    "    {\"_id\":2,\"name\":\"Mushi-Shi\",\"year\":2005,\"genre\":[\"Drama\",\"fantasy\"],\"director\":\" Brina Palencia\",\"Seasons\":2},\n",
    "    {\"_id\":3,\"name\":\"Vinland Saga\",\"year\":2019,\"genre\":[\"Action\",\"Adventure\"],\"director\":\"Mike Haimoto\",\"Seasons\":2},\n",
    "    {\"_id\":4,\"name\":\"Berserk\",\"year\":1997,\"genre\":[\"Action\",\"Fantasy\"],\"director\":\"Marc Diraison\",\"Seasons\":1},\n",
    "    {\"_id\":5,\"name\":\"Neon Genesis Evangelion\",\"year\":1995,\"genre\":[\"Action\",\"Drama\",\"Sci-fi\"],\"director\":\"Megumi Ogata\",\"Seasons\":1},\n",
    "    {\"_id\":6,\"name\":\"Baccano\",\"year\":2007,\"genre\":[\"Action\",\"Adventure\"],\"director\":\"Akemi Kanda\",\"Seasons\":1},\n",
    "    {\"_id\":7,\"name\":\"Gintama\",\"year\":2006,\"genre\":[\"Comedy\"],\"director\":\"Susumu Chiba\",\"Seasons\":11},\n",
    "    {\"_id\":8,\"name\":\"Code Geass: Lelouch of the Rebellion\",\"year\":2006,\"genre\":[\"Action\"],\"director\":\"Johnny Yong Bosch\",\"Seasons\":2},\n",
    "    {\"_id\":9,\"name\":\"Steins;Gate\",\"year\":2011,\"genre\":[\"Comedy\",\"Drama\",\"Sci-fi\"],\"director\":\"Trina Nishimura\",\"Seasons\":1},\n",
    "    {\"_id\":10,\"name\":\"Haikyuu\",\"year\":2014,\"genre\":[\"Comedy\",\"Drama\"],\"director\":\"Ayumu Murase\",\"Seasons\":4},\n",
    "    {\"_id\":11,\"name\":\"One Punch Man\",\"year\":2015,\"genre\":[\"Comedy\",\"Sci-fi\",\"Action\"],\"director\":\"Robbie Daymond\",\"Seasons\":2},\n",
    "    {\"_id\":12,\"name\":\"Your Lie In April\",\"year\":2014,\"genre\":[\"Comedy\",\"Drama\"],\"director\":\"Wendee Lee\",\"Seasons\":1},\n",
    "    {\"_id\":13,\"name\":\"Monster\",\"year\":2004,\"genre\":[\"Crime\"],\"director\":\"Liam O'Brien\",\"Seasons\":1},\n",
    "    {\"_id\":14,\"name\":\"JoJo's Bizarre Adventure\",\"year\":2012,\"genre\":[\"Action\",\"Adventure\"],\"director\":\"David Vincent\",\"Seasons\":5},\n",
    "    {\"_id\":15,\"name\":\"Bleach\",\"year\":2004,\"genre\":[\"Action\",\"Adventure\"],\"director\":\"Stephen Prince \",\"Seasons\":16},\n",
    "    {\"_id\":16,\"name\":\"My Hero Academia\",\"year\":2016,\"genre\":[\"Action\",\"Super Hero\"],\"director\":\"Aoi Yuki\",\"Seasons\":7},\n",
    "    {\"_id\":17,\"name\":\"Hunter X Hunter\",\"year\":2016,\"genre\":[\"Action\",\"Adventure\"],\"director\":\"Issei Futamata \",\"Seasons\":1},\n",
    "    {\"_id\":18,\"name\":\"Death Note\",\"year\":2006,\"genre\":[\"Crime\",\"Drama\"],\"director\":\"Mamoru Miyano\",\"Seasons\":1},\n",
    "    {\"_id\":19,\"name\":\"Fullmetal Alchemist: Brotherhood\",\"year\":2009,\"genre\":[\"Action\",\"Adventure\",\"Fantasy\",\"Sci-fi\",\"Shonen\"],\"director\":\"Jerry Russell\",\"Seasons\":1},\n",
    "    {\"_id\":20,\"name\":\"Mobile Suit Gundam Wing\",\"year\":1995,\"genre\":[\"Action\",\"Adventure\"],\"director\":\"Hikaru Midorikawa \",\"Seasons\":1},    \n",
    "]\n",
    "\n",
    "anime_collection.insert_many(anime_lst)"
   ]
  },
  {
   "cell_type": "code",
   "execution_count": null,
   "metadata": {},
   "outputs": [],
   "source": [
    "res=anime_collection.find().sort(\"name\")\n",
    "\n",
    "for rec in res:\n",
    "    print(rec)"
   ]
  },
  {
   "cell_type": "code",
   "execution_count": null,
   "metadata": {},
   "outputs": [],
   "source": [
    "# ascending order\n",
    "res=anime_collection.find().sort(\"name\",-1)\n",
    "\n",
    "for rec in res:\n",
    "    print(rec)"
   ]
  },
  {
   "cell_type": "markdown",
   "metadata": {},
   "source": [
    "# Distinct Record"
   ]
  },
  {
   "cell_type": "code",
   "execution_count": null,
   "metadata": {},
   "outputs": [],
   "source": [
    "anime_collection.distinct(\"name\")"
   ]
  },
  {
   "cell_type": "markdown",
   "metadata": {},
   "source": [
    "# rename collections"
   ]
  },
  {
   "cell_type": "code",
   "execution_count": null,
   "metadata": {},
   "outputs": [],
   "source": [
    "anime_collection.rename(\"anime_collections\",dropTarget=True)"
   ]
  },
  {
   "cell_type": "markdown",
   "metadata": {},
   "source": [
    "# Bulk requests"
   ]
  },
  {
   "cell_type": "code",
   "execution_count": 28,
   "metadata": {},
   "outputs": [],
   "source": [
    "anime_collection=db[\"anime_collections\"]\n",
    "from pymongo import InsertOne,DeleteOne,ReplaceOne\n",
    "req=[InsertOne({\"_id\":21,\"name\":\"Jujutsu Kaisen\",\"year\":202,\"genre\":[\"Action\",\"Adventure\",\"Fantasy\"],\"director\":\"Junya Enoki\",\"Seasons\":2}),\n",
    "     DeleteOne({\"name\":\"Jujutsu Kaisen\"}),\n",
    "     ReplaceOne({\"year\":1995},{\"year\":2023},upsert=True)]\n",
    "\n",
    "res=anime_collection.bulk_write(req)"
   ]
  },
  {
   "cell_type": "markdown",
   "metadata": {},
   "source": [
    "# Aggregation Operation"
   ]
  },
  {
   "cell_type": "code",
   "execution_count": 4,
   "metadata": {},
   "outputs": [],
   "source": [
    "collection=db.create_collection(\"table\")"
   ]
  },
  {
   "cell_type": "code",
   "execution_count": 5,
   "metadata": {},
   "outputs": [
    {
     "data": {
      "text/plain": [
       "InsertManyResult([1, 2, 3, 4, 5], acknowledged=True)"
      ]
     },
     "execution_count": 5,
     "metadata": {},
     "output_type": "execute_result"
    }
   ],
   "source": [
    "writer_profile=[\n",
    "    {\"_id\":1, \"user\":\"Amit\", \"title\":\"Python\", \"comments\":5}, \n",
    "    {\"_id\":2, \"user\":\"Drew\",  \"title\":\"JavaScript\", \"comments\":15}, \n",
    "    {\"_id\":3, \"user\":\"Amit\",  \"title\":\"C++\", \"comments\":6}, \n",
    "    {\"_id\":4, \"user\":\"Drew\",  \"title\":\"MongoDB\", \"comments\":2}, \n",
    "    {\"_id\":5, \"user\":\"Cody\",  \"title\":\"Perl\", \"comments\":9}\n",
    "]\n",
    "\n",
    "collection.insert_many(writer_profile)"
   ]
  },
  {
   "cell_type": "code",
   "execution_count": 7,
   "metadata": {},
   "outputs": [
    {
     "name": "stdout",
     "output_type": "stream",
     "text": [
      "{'_id': 'Drew', 'num_tutorial': 2}\n",
      "{'_id': 'Cody', 'num_tutorial': 1}\n",
      "{'_id': 'Amit', 'num_tutorial': 2}\n"
     ]
    }
   ],
   "source": [
    "agg_result=collection.aggregate([\n",
    "    {\n",
    "        \"$group\":{\"_id\":\"$user\",\"num_tutorial\":{\"$sum\":1}}\n",
    "    }\n",
    "])\n",
    "\n",
    "for i in agg_result: \n",
    "    print(i)"
   ]
  },
  {
   "cell_type": "code",
   "execution_count": 8,
   "metadata": {},
   "outputs": [
    {
     "name": "stdout",
     "output_type": "stream",
     "text": [
      "{'_id': 'JavaScript', 'total': 1}\n",
      "{'_id': 'C++', 'total': 1}\n",
      "{'_id': 'MongoDB', 'total': 1}\n",
      "{'_id': 'Python', 'total': 1}\n",
      "{'_id': 'Perl', 'total': 1}\n"
     ]
    }
   ],
   "source": [
    "title_agg=collection.aggregate([\n",
    "    {\n",
    "        \"$group\":{\"_id\":\"$title\",\"total\":{\"$sum\":1}}\n",
    "    }\n",
    "])\n",
    "for i in title_agg: \n",
    "    print(i)"
   ]
  },
  {
   "cell_type": "markdown",
   "metadata": {},
   "source": [
    "# Limit "
   ]
  },
  {
   "cell_type": "code",
   "execution_count": 11,
   "metadata": {},
   "outputs": [
    {
     "name": "stdout",
     "output_type": "stream",
     "text": [
      "{'_id': 1, 'user': 'Amit', 'title': 'Python', 'comments': 5}\n",
      "{'_id': 2, 'user': 'Drew', 'title': 'JavaScript', 'comments': 15}\n"
     ]
    }
   ],
   "source": [
    "for rec in collection.find().limit(2):\n",
    "    print(rec)"
   ]
  },
  {
   "cell_type": "code",
   "execution_count": 17,
   "metadata": {},
   "outputs": [
    {
     "name": "stdout",
     "output_type": "stream",
     "text": [
      "{'_id': 3, 'name': 'Vinland Saga', 'year': 2019, 'genre': ['Action', 'Adventure'], 'director': 'Mike Haimoto', 'Seasons': 2}\n",
      "{'_id': 4, 'name': 'Berserk', 'year': 1997, 'genre': ['Action', 'Fantasy'], 'director': 'Marc Diraison', 'Seasons': 1}\n",
      "{'_id': 5, 'name': 'Neon Genesis Evangelion', 'year': 1995, 'genre': ['Action', 'Drama', 'Sci-fi'], 'director': 'Megumi Ogata', 'Seasons': 1}\n",
      "{'_id': 6, 'name': 'Baccano', 'year': 2007, 'genre': ['Action', 'Adventure'], 'director': 'Akemi Kanda', 'Seasons': 1}\n",
      "{'_id': 7, 'name': 'Gintama', 'year': 2006, 'genre': ['Comedy'], 'director': 'Susumu Chiba', 'Seasons': 11}\n",
      "{'_id': 8, 'name': 'Code Geass: Lelouch of the Rebellion', 'year': 2006, 'genre': ['Action'], 'director': 'Johnny Yong Bosch', 'Seasons': 2}\n",
      "{'_id': 9, 'name': 'Steins;Gate', 'year': 2011, 'genre': ['Comedy', 'Drama', 'Sci-fi'], 'director': 'Trina Nishimura', 'Seasons': 1}\n",
      "{'_id': 10, 'name': 'Haikyuu', 'year': 2014, 'genre': ['Comedy', 'Drama'], 'director': 'Ayumu Murase', 'Seasons': 4}\n",
      "{'_id': 11, 'name': 'One Punch Man', 'year': 2015, 'genre': ['Comedy', 'Sci-fi', 'Action'], 'director': 'Robbie Daymond', 'Seasons': 2}\n",
      "{'_id': 12, 'name': 'Your Lie In April', 'year': 2014, 'genre': ['Comedy', 'Drama'], 'director': 'Wendee Lee', 'Seasons': 1}\n"
     ]
    }
   ],
   "source": [
    "for rec in anime_collection.find().limit(10).skip(2):\n",
    "    print(rec)"
   ]
  },
  {
   "cell_type": "markdown",
   "metadata": {},
   "source": [
    "# count"
   ]
  },
  {
   "cell_type": "code",
   "execution_count": 27,
   "metadata": {},
   "outputs": [
    {
     "data": {
      "text/plain": [
       "20"
      ]
     },
     "execution_count": 27,
     "metadata": {},
     "output_type": "execute_result"
    }
   ],
   "source": [
    "anime_collection.count_documents({})"
   ]
  },
  {
   "cell_type": "code",
   "execution_count": null,
   "metadata": {},
   "outputs": [],
   "source": []
  },
  {
   "cell_type": "code",
   "execution_count": null,
   "metadata": {},
   "outputs": [],
   "source": []
  }
 ],
 "metadata": {
  "kernelspec": {
   "display_name": "base",
   "language": "python",
   "name": "python3"
  },
  "language_info": {
   "codemirror_mode": {
    "name": "ipython",
    "version": 3
   },
   "file_extension": ".py",
   "mimetype": "text/x-python",
   "name": "python",
   "nbconvert_exporter": "python",
   "pygments_lexer": "ipython3",
   "version": "3.12.7"
  }
 },
 "nbformat": 4,
 "nbformat_minor": 2
}
