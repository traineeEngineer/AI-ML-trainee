{
  "nbformat": 4,
  "nbformat_minor": 0,
  "metadata": {
    "colab": {
      "provenance": []
    },
    "kernelspec": {
      "name": "python3",
      "display_name": "Python 3"
    },
    "language_info": {
      "name": "python"
    }
  },
  "cells": [
    {
      "cell_type": "code",
      "execution_count": null,
      "metadata": {
        "id": "pnXKAexVgKUi"
      },
      "outputs": [],
      "source": [
        "list1=[1,2,3,4,3,5,2,2,6,4,7,8]\n",
        "newlist=list(set(list1))\n",
        "\n",
        "for num in newlist:\n",
        "  if list1.count(num)>=3:\n",
        "    print(num)"
      ]
    },
    {
      "cell_type": "code",
      "source": [
        "import datetime\n",
        "\n",
        "time=datetime.datetime.now()\n",
        "print(time)"
      ],
      "metadata": {
        "id": "BFFJwsgugmdJ"
      },
      "execution_count": null,
      "outputs": []
    },
    {
      "cell_type": "code",
      "source": [
        "import math\n",
        "\n",
        "r=float(input())\n",
        "area=math.pi* r**2\n",
        "\n",
        "print(area)"
      ],
      "metadata": {
        "id": "M3s1QPargmft"
      },
      "execution_count": null,
      "outputs": []
    },
    {
      "cell_type": "code",
      "source": [
        "first=str(input())\n",
        "last=str(input())\n",
        "name=first+last\n",
        "print(name[::-1])"
      ],
      "metadata": {
        "id": "IRYxGCfXgmiT"
      },
      "execution_count": null,
      "outputs": []
    },
    {
      "cell_type": "code",
      "source": [
        "l1=['3', ' 5', ' 7', ' 23']\n",
        "t=tuple(l1)\n",
        "print(t)"
      ],
      "metadata": {
        "id": "K64nSY6Zgmkn"
      },
      "execution_count": null,
      "outputs": []
    },
    {
      "cell_type": "code",
      "source": [
        "color_list = [\"Red\",\"Green\",\"White\" ,\"Black\"]\n",
        "\n",
        "print(\"%s, %s\"%(color_list[0],color_list[3]))"
      ],
      "metadata": {
        "id": "NvjqythwgmnD"
      },
      "execution_count": null,
      "outputs": []
    },
    {
      "cell_type": "code",
      "source": [
        "exam_st_date = (11, 12, 2014)\n",
        "print('%i/%i/%i'%(exam_st_date))"
      ],
      "metadata": {
        "id": "pJGylO-Vgm3E"
      },
      "execution_count": null,
      "outputs": []
    },
    {
      "cell_type": "code",
      "source": [
        "n=int(input())\n",
        "n_str = str(n)\n",
        "nn = int(n_str * 2)\n",
        "nnn = int(n_str * 3)\n",
        "result = n + nn + nnn\n",
        "print(result)"
      ],
      "metadata": {
        "id": "1LEeUktZgm8B"
      },
      "execution_count": null,
      "outputs": []
    },
    {
      "cell_type": "code",
      "source": [
        "from datetime import datetime\n",
        "\n",
        "d1=datetime(2014, 7, 2)\n",
        "d2=datetime(2014, 7, 11)\n",
        "\n",
        "diff=d2-d1\n",
        "\n",
        "dt=diff.days\n",
        "\n",
        "print(dt)"
      ],
      "metadata": {
        "id": "QdSu82vdgnLK"
      },
      "execution_count": null,
      "outputs": []
    },
    {
      "cell_type": "code",
      "source": [
        "prev_num=0\n",
        "\n",
        "for num in range(0,11):\n",
        "  sum=prev_num+num\n",
        "  print(\"Current Number\", num, \"Previous Number \", prev_num, \" Sum: \", sum)\n",
        "  prev_num=num"
      ],
      "metadata": {
        "id": "PlrRGWIcgnQb"
      },
      "execution_count": null,
      "outputs": []
    },
    {
      "cell_type": "code",
      "source": [
        "st=\"pynative\"\n",
        "\n",
        "x=list(st)\n",
        "for i in x[0::2]:\n",
        "  print(i)"
      ],
      "metadata": {
        "id": "2rrLJJ7FgnTA"
      },
      "execution_count": null,
      "outputs": []
    },
    {
      "cell_type": "code",
      "source": [
        "st=\"pynative\"\n",
        "\n",
        "def remove_chars(st, num):\n",
        "  x = st[num:]\n",
        "  return x\n",
        "\n",
        "print(remove_chars(\"pynative\", 4))\n",
        "print(remove_chars(\"pynative\", 2))"
      ],
      "metadata": {
        "id": "UTYBblFkgnVZ"
      },
      "execution_count": null,
      "outputs": []
    },
    {
      "cell_type": "code",
      "source": [
        "def first_last_same(num):\n",
        "    first=num[0]\n",
        "    last=num[-1]\n",
        "    if first==last:\n",
        "      return True\n",
        "    return False\n",
        "\n",
        "numbers_y = [75, 65, 35, 75, 30]\n",
        "print(\"result is\", first_last_same(numbers_y))"
      ],
      "metadata": {
        "id": "5h1cjUMcgnX7"
      },
      "execution_count": null,
      "outputs": []
    },
    {
      "cell_type": "code",
      "source": [
        "l1=[10, 20, 33, 46, 55]\n",
        "\n",
        "for i in l1:\n",
        "  if i%5==0:\n",
        "    print(i)"
      ],
      "metadata": {
        "id": "sLNtmcKcgnak"
      },
      "execution_count": null,
      "outputs": []
    },
    {
      "cell_type": "code",
      "source": [
        "str_x = \"Emma is good developer. Emma is a writer\"\n",
        "\n",
        "cnt=str_x.count('Emma')\n",
        "print(cnt)"
      ],
      "metadata": {
        "id": "_eti76T7gnc3"
      },
      "execution_count": null,
      "outputs": []
    },
    {
      "cell_type": "code",
      "source": [
        "for num in range(10):\n",
        "  for j in range(num):\n",
        "    print(j,end='')\n",
        "  print('\\n')"
      ],
      "metadata": {
        "id": "d4Tlhukxgnfi"
      },
      "execution_count": null,
      "outputs": []
    },
    {
      "cell_type": "code",
      "source": [
        "def solution(num):\n",
        "  num_str=str(num)\n",
        "  return num_str==num_str[::-1]\n",
        "\n",
        "palindrom=solution(125)\n",
        "if palindrom:\n",
        "  print('Yes. given number is palindrome number')\n",
        "else:\n",
        "  print('No. given number is not palindrome number')"
      ],
      "metadata": {
        "id": "pLT0Pb3XgniX"
      },
      "execution_count": null,
      "outputs": []
    },
    {
      "cell_type": "code",
      "source": [
        "list1 = [10, 20, 25, 30, 35]\n",
        "list2 = [40, 45, 60, 75, 90]\n",
        "\n",
        "new_list=[x for x in list1 if x%2!=0]+[x for x in list2 if x%2==0]\n",
        "print(new_list)"
      ],
      "metadata": {
        "id": "4Q-DMTaMgnk9"
      },
      "execution_count": null,
      "outputs": []
    },
    {
      "cell_type": "code",
      "source": [
        "number=7536\n",
        "print(' '.join(reversed(str(number))))"
      ],
      "metadata": {
        "id": "A0bjnsexgnnk"
      },
      "execution_count": null,
      "outputs": []
    },
    {
      "cell_type": "code",
      "source": [
        "base=2\n",
        "exponent = 5\n",
        "print(base**exponent)"
      ],
      "metadata": {
        "id": "j3OxVG3jgnqE"
      },
      "execution_count": null,
      "outputs": []
    },
    {
      "cell_type": "code",
      "source": [
        "sum=0\n",
        "for n in range(1,11):\n",
        "  sum+=n\n",
        "print(sum)"
      ],
      "metadata": {
        "id": "mQl3m-Vvgns0"
      },
      "execution_count": null,
      "outputs": []
    },
    {
      "cell_type": "code",
      "source": [
        "numbers = [12, 75, 150, 180, 145, 525, 50]\n",
        "for item in numbers:\n",
        "    if item > 500:\n",
        "        break\n",
        "    elif item > 150:\n",
        "        continue\n",
        "    elif item % 5 == 0:\n",
        "        print(item)"
      ],
      "metadata": {
        "id": "9BSME7zAgnvN"
      },
      "execution_count": null,
      "outputs": []
    },
    {
      "cell_type": "code",
      "source": [
        "number = 75869\n",
        "print(len(str(number)))"
      ],
      "metadata": {
        "id": "P3FCcUTagnxe"
      },
      "execution_count": null,
      "outputs": []
    },
    {
      "cell_type": "code",
      "source": [
        "list1 = [10, 20, 30, 40, 50]\n",
        "\n",
        "new_list=reversed(list1)\n",
        "\n",
        "for num in new_list:\n",
        "  print(num)"
      ],
      "metadata": {
        "id": "Ik44cA-Ohb8Y"
      },
      "execution_count": null,
      "outputs": []
    },
    {
      "cell_type": "code",
      "source": [
        "for n in range(-10,0):\n",
        "  print(n)"
      ],
      "metadata": {
        "id": "rEkrna3Bhb_A"
      },
      "execution_count": null,
      "outputs": []
    },
    {
      "cell_type": "code",
      "source": [
        "num1, num2 = 0, 1\n",
        "for i in range(10):\n",
        "    print(num1, end=\"  \")\n",
        "    res = num1 + num2\n",
        "    num1 = num2\n",
        "    num2 = res"
      ],
      "metadata": {
        "id": "HBTnHygfhcBo"
      },
      "execution_count": null,
      "outputs": []
    },
    {
      "cell_type": "code",
      "source": [
        "import math\n",
        "n=5\n",
        "print(math.factorial(n))"
      ],
      "metadata": {
        "id": "8LOYzySphcEO"
      },
      "execution_count": null,
      "outputs": []
    },
    {
      "cell_type": "code",
      "source": [
        "num=76542\n",
        "str_num=str(num)\n",
        "print(str_num[::-1])"
      ],
      "metadata": {
        "id": "mpCNraqXhcG6"
      },
      "execution_count": null,
      "outputs": []
    },
    {
      "cell_type": "code",
      "source": [
        "my_list = [10, 20, 30, 40, 50, 60, 70, 80, 90, 100]\n",
        "\n",
        "for num in my_list[1::2]:\n",
        "  print(num)"
      ],
      "metadata": {
        "id": "ztE4baUchcJb"
      },
      "execution_count": null,
      "outputs": []
    },
    {
      "cell_type": "code",
      "source": [
        "input_number = 6\n",
        "for num in range(input_number):\n",
        "  print(num*num*num)"
      ],
      "metadata": {
        "id": "AIa0OV4LhcL7"
      },
      "execution_count": null,
      "outputs": []
    },
    {
      "cell_type": "code",
      "source": [
        "n = 5\n",
        "\n",
        "series=sum(int('2'*i) for i in range(1,n+1))\n",
        "print(series)"
      ],
      "metadata": {
        "id": "1I2DRQiNhcOY"
      },
      "execution_count": null,
      "outputs": []
    },
    {
      "cell_type": "code",
      "source": [
        "def func1(*args):\n",
        "  for i in args:\n",
        "    print(i)\n",
        "\n",
        "func1(20, 40, 60)"
      ],
      "metadata": {
        "id": "vpGIgXjuhcRD"
      },
      "execution_count": null,
      "outputs": []
    },
    {
      "cell_type": "code",
      "source": [
        "def calculation(a, b):\n",
        "  return a+b, a-b\n",
        "\n",
        "res = calculation(40, 10)\n",
        "print(res)"
      ],
      "metadata": {
        "id": "txMrAUEnhcUj"
      },
      "execution_count": null,
      "outputs": []
    },
    {
      "cell_type": "code",
      "source": [
        "def show_employee(name,salary=9000):\n",
        "  print(name,salary)\n",
        "\n",
        "show_employee(\"Ben\", 12000)\n",
        "show_employee(\"Jessa\")"
      ],
      "metadata": {
        "id": "7ppPrffRgn0E"
      },
      "execution_count": null,
      "outputs": []
    },
    {
      "cell_type": "code",
      "source": [
        "def outer(a,b):\n",
        "  square=a**2\n",
        "\n",
        "  def addition(a,b):\n",
        "    return a+b\n",
        "\n",
        "  add=addition(a,b)\n",
        "  return add+5\n",
        "res=outer(5,10)\n",
        "print(res)"
      ],
      "metadata": {
        "id": "t2WT4vxtgn3f"
      },
      "execution_count": null,
      "outputs": []
    },
    {
      "cell_type": "code",
      "source": [
        "str1 = \"James\"\n",
        "\n",
        "new_str=str1[0]+str1[len(str1)//2]+str1[-1]\n",
        "print(new_str)"
      ],
      "metadata": {
        "id": "xe8NWG4IiNK6"
      },
      "execution_count": null,
      "outputs": []
    },
    {
      "cell_type": "code",
      "source": [
        "str1 = \"JhonDipPeta\"\n",
        "mid_str=len(str1)//2\n",
        "new_str=str1[mid_str-1:mid_str+2]\n",
        "print(new_str)"
      ],
      "metadata": {
        "id": "d2aXys4niNNZ"
      },
      "execution_count": null,
      "outputs": []
    },
    {
      "cell_type": "code",
      "source": [
        "s1 = \"Ault\"\n",
        "s2 = \"Kelly\"\n",
        "\n",
        "mid_str=len(s1)//2\n",
        "s3=s1[:mid_str]+s2+s1[mid_str:]\n",
        "print(s3)"
      ],
      "metadata": {
        "id": "bKKskT84iNQP"
      },
      "execution_count": null,
      "outputs": []
    },
    {
      "cell_type": "code",
      "source": [
        "s1 = \"America\"\n",
        "s2 = \"Japan\"\n",
        "new_str=s1[0]+s2[0]+s1[len(s1)//2]+s2[len(s2)//2]+s1[-1]+s2[-1]\n",
        "print(new_str)"
      ],
      "metadata": {
        "id": "px1pvRxyiNS0"
      },
      "execution_count": null,
      "outputs": []
    },
    {
      "cell_type": "code",
      "source": [
        "str1 = 'PyNaTive'\n",
        "\n",
        "def arrange(str1):\n",
        "  lower=\"\"\n",
        "  upper=\"\"\n",
        "\n",
        "  for char in str1:\n",
        "    if char.islower():\n",
        "      lower+=char\n",
        "    elif char.isupper():\n",
        "      upper+=char\n",
        "\n",
        "  arrangestr=lower+upper\n",
        "  return arrangestr\n",
        "\n",
        "result=arrange(str1)\n",
        "print(result)"
      ],
      "metadata": {
        "id": "8G6YSVFciNVa"
      },
      "execution_count": null,
      "outputs": []
    },
    {
      "cell_type": "code",
      "source": [
        "str1 = \"P@#yn26at^&i5ve\"\n",
        "\n",
        "letters=sum(1 for char in str1 if char.isalpha())\n",
        "digits=sum(1 for char in str1 if char.isdigit())\n",
        "specials=sum(1 for char in str1 if not char.isalnum())\n",
        "\n",
        "print(\"letters:\", letters, \"digits:\", digits, 'specials:', specials)"
      ],
      "metadata": {
        "id": "Y5FvMr2DiNYI"
      },
      "execution_count": null,
      "outputs": []
    },
    {
      "cell_type": "code",
      "source": [
        "s1 = \"Abc\"\n",
        "s2 = \"Xyz\"\n",
        "s3=''.join([x+y for x,y in zip(s1,reversed(s2))])+s1[len(s2):]+s2[len(s1):]\n",
        "print(s3)"
      ],
      "metadata": {
        "id": "0wEq4QnuiNak"
      },
      "execution_count": null,
      "outputs": []
    },
    {
      "cell_type": "code",
      "source": [
        "s1 = \"Ynf\"\n",
        "s2 = \"PYnative\"\n",
        "\n",
        "result=all(ch in s2 for ch in s1)\n",
        "print(result)"
      ],
      "metadata": {
        "id": "S9dCdXWOiNdJ"
      },
      "execution_count": null,
      "outputs": []
    },
    {
      "cell_type": "code",
      "source": [
        "import re\n",
        "str1 = \"Welcome to USA. usa awesome, isn't it?\"\n",
        "\n",
        "counts=re.findall(r'USA',str1,re.IGNORECASE)\n",
        "print(len(counts))"
      ],
      "metadata": {
        "id": "XNnmI_p4iNfs"
      },
      "execution_count": null,
      "outputs": []
    },
    {
      "cell_type": "code",
      "source": [
        "import re\n",
        "str1 = \"PYnative29@#8496\"\n",
        "sum_avg=re.findall(r'\\d',str1,)\n",
        "digits=[int(digit) for digit in sum_avg]\n",
        "\n",
        "sum_dig=sum(digits)\n",
        "avg_digit=sum_dig/len(digits) if digits else 0\n",
        "\n",
        "print(avg_digit)"
      ],
      "metadata": {
        "id": "EcebUo69iNiJ"
      },
      "execution_count": null,
      "outputs": []
    },
    {
      "cell_type": "code",
      "source": [
        "import re\n",
        "str1 = \"Apple\"\n",
        "coun={char:len(re.findall(char,str1)) for char in str1}\n",
        "print(coun)"
      ],
      "metadata": {
        "id": "bUSmFNhliNkg"
      },
      "execution_count": null,
      "outputs": []
    },
    {
      "cell_type": "code",
      "source": [
        "str1 = \"PYnative\"\n",
        "revers=str1[::-1]\n",
        "print(revers)"
      ],
      "metadata": {
        "id": "F8IM3zBIiNnU"
      },
      "execution_count": null,
      "outputs": []
    },
    {
      "cell_type": "code",
      "source": [
        "str1 = \"Emma-is-a-data-scientist\"\n",
        "sub_st=str1.split('-')\n",
        "\n",
        "for sub in sub_st:\n",
        "  print(sub)"
      ],
      "metadata": {
        "id": "baLyTx8BiNqJ"
      },
      "execution_count": null,
      "outputs": []
    },
    {
      "cell_type": "code",
      "source": [
        "l1 = [3, 6, 9, 12, 15, 18, 21]\n",
        "l2 = [4, 8, 12, 16, 20, 24, 28]\n",
        "\n",
        "odd=l1[1::2]\n",
        "even=l2[0::2]\n",
        "\n",
        "res=list()\n",
        "res.extend(odd)\n",
        "res.extend(even)\n",
        "print(res)"
      ],
      "metadata": {
        "id": "DZDhSyTOiNsw"
      },
      "execution_count": null,
      "outputs": []
    },
    {
      "cell_type": "code",
      "source": [
        "list1 = [54, 44, 27, 79, 91, 41]\n",
        "element=list1.pop(4)\n",
        "list1.insert(2,element)\n",
        "list1.append(element)\n",
        "\n",
        "print(list1)"
      ],
      "metadata": {
        "id": "aQR4N_pUiNvN"
      },
      "execution_count": null,
      "outputs": []
    },
    {
      "cell_type": "code",
      "source": [],
      "metadata": {
        "id": "922g_mjciNxt"
      },
      "execution_count": null,
      "outputs": []
    },
    {
      "cell_type": "code",
      "source": [],
      "metadata": {
        "id": "aht-4kZviN0L"
      },
      "execution_count": null,
      "outputs": []
    },
    {
      "cell_type": "code",
      "source": [],
      "metadata": {
        "id": "qNFKaOOmiN2x"
      },
      "execution_count": null,
      "outputs": []
    },
    {
      "cell_type": "code",
      "source": [],
      "metadata": {
        "id": "Ub1coOfsiN5R"
      },
      "execution_count": null,
      "outputs": []
    },
    {
      "cell_type": "code",
      "source": [],
      "metadata": {
        "id": "TAEqpz7ciN81"
      },
      "execution_count": null,
      "outputs": []
    }
  ]
}